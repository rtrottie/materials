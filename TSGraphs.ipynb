{
 "cells": [
  {
   "cell_type": "markdown",
   "source": [
    "Initialize"
   ],
   "metadata": {
    "collapsed": false,
    "pycharm": {
     "name": "#%% md\n"
    }
   }
  },
  {
   "cell_type": "code",
   "execution_count": 1,
   "metadata": {
    "collapsed": true,
    "pycharm": {
     "is_executing": false
    }
   },
   "outputs": [
    {
     "name": "stdout",
     "text": [
      "Begin Importing (0/4)\n",
      "Imported All Materials (1/4)\n",
      "Imported Charged Materials (2/4)\n",
      "Imported Zachs Materials (3/4)\n",
      "Imported Zungers Materials (4/4)\n",
      "Updated Dicts\n",
      "Loaded\n"
     ],
     "output_type": "stream"
    }
   ],
   "source": [
    "print('Begin Importing (0/4)')\n",
    "from All_Materials import *\n",
    "print('Imported All Materials (1/4)')\n",
    "import All_Charged_Materials\n",
    "print('Imported Charged Materials (2/4)')\n",
    "import ZachsMaterials\n",
    "print('Imported Zachs Materials (3/4)')\n",
    "import ZungersMaterials\n",
    "print('Imported Zungers Materials (4/4)')\n",
    "import matplotlib\n",
    "import scipy\n",
    "%matplotlib inline\n",
    "mat_dict.update(ZachsMaterials.mat_dict)\n",
    "mat_dict.update(ZungersMaterials.mat_dict)\n",
    "ts_dict.update(ZachsMaterials.ts_dict)\n",
    "ts_dict.update(ZungersMaterials.ts_dict)\n",
    "print('Updated Dicts')\n",
    "comps = False\n",
    "if comps:\n",
    "    figure_folder = 'D:\\\\My Stuff\\\\Dropbox\\\\Research\\\\compfigures'\n",
    "else:\n",
    "    figure_folder = 'D:\\\\My Stuff\\\\Dropbox\\\\Research\\\\Papers\\\\Figures'\n",
    "    \n",
    "def savefig(fname, pyplot=plt):\n",
    "    os.makedirs(figure_folder, exist_ok=True)\n",
    "    pyplot.savefig(os.path.join(figure_folder, '{}.png'.format(fname)), dpi=300, bbox_inches='tight')\n",
    "    pyplot.show()\n",
    "print('Loaded')\n",
    "\n"
   ]
  },
  {
   "cell_type": "code",
   "execution_count": 2,
   "outputs": [
    {
     "name": "stdout",
     "text": [
      "-473.10230264\n",
      "-472.97061171\n"
     ],
     "output_type": "stream"
    }
   ],
   "source": [
    "print(ts_dict['bacoo3']['lb'][1]['energy'])\n",
    "print(max(max(ts_dict['bacoo3']['ub'][1][0]['energies']), \n",
    "          max(ts_dict['bacoo3']['ub'][1][1]['energies'])))"
   ],
   "metadata": {
    "collapsed": false,
    "pycharm": {
     "name": "#%%\n",
     "is_executing": false
    }
   }
  },
  {
   "cell_type": "markdown",
   "source": [
    "Functions"
   ],
   "metadata": {
    "collapsed": false,
    "pycharm": {
     "name": "#%% md\n"
    }
   }
  },
  {
   "cell_type": "code",
   "execution_count": 3,
   "outputs": [
    {
     "name": "stdout",
     "text": [
      "done\n"
     ],
     "output_type": "stream"
    }
   ],
   "source": [
    "def get_unit_criteria(run, material):\n",
    "    if 'zunger' in run['base']['material']:\n",
    "        unit_criteria = {\n",
    "            'defect_type': {'$exists': False},\n",
    "            'ts_type': {'$exists': False},\n",
    "            'material': {'$all': ['zunger', material], '$in': ['spinel', 'perovskite'], '$nin': []},\n",
    "            'labels' : {\n",
    "                '$all' : ['unit_cell'],\n",
    "                '$nin' : ['surface']}\n",
    "        }\n",
    "    elif 'from_zach' in run['base']['material']:\n",
    "        unit_criteria = {\n",
    "            'defect_type': {'$exists': False},\n",
    "            'ts_type': {'$exists': False},\n",
    "            'material': {'$all': ['from_zach', material], '$in': ['spinel', 'perovskite'], '$nin': []},\n",
    "            'labels' : {\n",
    "                '$all' : ['unit_cell'],\n",
    "                '$nin' : ['surface']}\n",
    "        }\n",
    "    else:\n",
    "        unit_criteria = {\n",
    "            'defect_type': {'$exists': False},\n",
    "            'ts_type': {'$exists': False},\n",
    "            'material': {'$all': [material], '$in': ['spinel', 'perovskite'], '$nin': ['from_zach', 'zunger']},\n",
    "            'labels' : {\n",
    "                '$all' : ['unit_cell'],\n",
    "                '$nin' : ['surface']}\n",
    "        }\n",
    "    return unit_criteria\n",
    "print('done')"
   ],
   "metadata": {
    "collapsed": false,
    "pycharm": {
     "name": "#%%\n",
     "is_executing": false
    }
   }
  },
  {
   "cell_type": "code",
   "execution_count": 4,
   "outputs": [
    {
     "name": "stdout",
     "text": [
      "0.0\n",
      "2.533854527668464\n"
     ],
     "output_type": "stream"
    }
   ],
   "source": [
    "material = 'znmno3'\n",
    "mat = mat_dict[material]\n",
    "mat_unit_criteria = get_unit_criteria(mat, material)\n",
    "i = 5\n",
    "units = list(db.database.find(mat_unit_criteria).sort('energy'))\n",
    "unit = units[0]\n",
    "Poscar.from_dict(unit['poscar']).write_file('D:\\\\Users\\\\theme\\\\Documents\\\\scrap\\\\POSCAR')\n",
    "get_file(fs, unit['vasprun'], new_file='D:\\\\Users\\\\theme\\\\Documents\\\\scrap\\\\vasprun.xml')\n",
    "\n",
    "print(mat['base']['band_gap_base'])\n",
    "print(mat['finals'][i]['diffusion_distance'])"
   ],
   "metadata": {
    "collapsed": false,
    "pycharm": {
     "name": "#%%\n",
     "is_executing": false
    }
   }
  },
  {
   "cell_type": "markdown",
   "source": [
    "Make CSV"
   ],
   "metadata": {
    "collapsed": false,
    "pycharm": {
     "name": "#%% md\n"
    }
   }
  },
  {
   "cell_type": "code",
   "execution_count": 5,
   "outputs": [
    {
     "name": "stdout",
     "text": [
      "['alv2o4', 'spinel', 'zunger'] : formation_energy -2.9449998149999996\n",
      "['perovskite', 'baceo3', 'from_zach'] : formation_energy -3.1756469724999987\n",
      "['perovskite', 'bacoo3'] : formation_energy -1.833648486\n",
      "['perovskite', 'bafeo3'] : formation_energy -2.0191163079999996\n",
      "['perovskite', 'bahfo3', 'from_zach'] : formation_energy -3.3964883710000002\n",
      "['perovskite', 'bamn3po3'] : formation_energy -2.2625683354022974\n",
      "['perovskite', 'baseo3'] : formation_energy -1.9062227682187511\n",
      "['perovskite', 'basno3', 'from_zach'] : formation_energy -2.1709670800000005\n",
      "['perovskite', 'batao3'] : formation_energy -2.87691223\n",
      "['perovskite', 'bazro3', 'from_zach'] : formation_energy -3.3456299560000007\n",
      "['perovskite', 'bialo3'] : formation_energy -2.014946689\n",
      "['perovskite', 'bicoo3'] : formation_energy -1.0739940940000003\n",
      "['perovskite', 'biino3'] : formation_energy -1.375519950999999\n",
      "['perovskite', 'bimno3'] : formation_energy -1.5489237753189642\n",
      "['perovskite', 'bisbo3'] : formation_energy -1.1988576119999999\n",
      "['perovskite', 'bisco3'] : formation_energy -2.3624362459999992\n",
      "['perovskite', 'bivo3'] : formation_energy -2.0965698134999995\n",
      "['perovskite', 'cacro3'] : formation_energy -2.6180356349999996\n",
      "['perovskite', 'cahfo3', 'from_zach'] : formation_energy -3.4392837814999977\n",
      "['perovskite', 'camno3'] : formation_energy -2.2960618450689636\n",
      "['perovskite', 'caseo3'] : formation_energy -1.9037439567187484\n",
      "['perovskite', 'catio3', 'from_zach'] : formation_energy -3.2053593421666653\n",
      "['perovskite', 'cavo3'] : formation_energy -2.893770975\n",
      "['spinel', 'cdal2o4'] : formation_energy -2.4391000571428565\n",
      "['spinel', 'coal2o4'] : formation_energy -2.6160094035714283\n",
      "['spinel', 'coga2o4'] : formation_energy -1.8179247778571421\n",
      "['perovskite', 'coseo3'] : formation_energy -1.0760505647187486\n",
      "['spinel', 'cual2o4'] : formation_energy -2.3462831249999994\n",
      "['spinel', 'feal2o4'] : formation_energy -2.662631134999999\n",
      "['spinel', 'femn2o4'] : formation_energy -1.8709963572413773\n",
      "['gefe2o4', 'spinel', 'zunger'] : formation_energy -1.2179811207142848\n",
      "['spinel', 'geni2o4'] : formation_energy -1.5509001785714278\n",
      "['perovskite', 'gesio3'] : formation_energy -2.0741945562499993\n",
      "['perovskite', 'inalo3'] : formation_energy -2.2717621629999996\n",
      "['perovskite', 'kbio3'] : formation_energy -1.0764371035000004\n",
      "['perovskite', 'ksbo3'] : formation_energy -1.6376008835\n",
      "['perovskite', 'ktao3', 'from_zach'] : formation_energy -2.7393750925\n",
      "['perovskite', 'laalo3', 'from_zach'] : formation_energy -3.3162631420000013\n",
      "['perovskite', 'lacro3', 'from_zach'] : formation_energy -3.0939724885000004\n",
      "['perovskite', 'lagao3'] : formation_energy -2.7178348739999985\n",
      "['perovskite', 'laino3'] : formation_energy -2.5239480364999993\n",
      "['perovskite', 'lamn3po3'] : formation_energy -2.765024904568963\n",
      "['perovskite', 'lasco3', 'from_zach'] : formation_energy -3.532782558000001\n",
      "['perovskite', 'latio3'] : formation_energy -3.3787643021666667\n",
      "['spinel', 'mgal2o4'] : formation_energy -2.9926201305555544\n",
      "['spinel', 'mgcr2o4'] : formation_energy -2.7578848798412685\n",
      "['perovskite', 'mggeo3'] : formation_energy -2.1538370022777764\n",
      "['perovskite', 'mgmno3'] : formation_energy -2.161807447846743\n",
      "['perovskite', 'mgseo3'] : formation_energy -1.6235212594965263\n",
      "['spinel', 'mnal2o4'] : formation_energy -2.7478779193349743\n",
      "['perovskite', 'mnseo3'] : formation_energy -1.3353724597877132\n",
      "['perovskite', 'nabio3'] : formation_energy -1.1700073062\n",
      "['perovskite', 'nasbo3'] : formation_energy -1.6421192812000007\n",
      "['perovskite', 'natao3', 'from_zach'] : formation_energy -2.7264291227\n",
      "['spinel', 'nial2o4'] : formation_energy -2.557515019285714\n",
      "['perovskite', 'sralo3'] : formation_energy -2.6251939600000007\n",
      "['perovskite', 'srcoo3'] : formation_energy -1.719599461\n",
      "['perovskite', 'srfeo3'] : formation_energy -2.1106022779999996\n",
      "['perovskite', 'srmn3po3'] : formation_energy -2.284282328568964\n",
      "['perovskite', 'srsno3', 'from_zach'] : formation_energy -2.2245115885000004\n",
      "['perovskite', 'yalo3'] : formation_energy -3.320101578999998\n",
      "['perovskite', 'ygao3'] : formation_energy -2.7463421506666643\n",
      "['perovskite', 'scalo3'] : formation_energy -3.2583761135\n",
      "['perovskite', 'sncoo3'] : formation_energy -1.5329711340000003\n",
      "['perovskite', 'snhfo3'] : formation_energy -2.609707445\n",
      "['perovskite', 'snmno3'] : formation_energy -1.7861233650689663\n",
      "['perovskite', 'snnio3'] : formation_energy -1.5033336930000005\n",
      "['perovskite', 'snsio3'] : formation_energy -2.18451524983333\n",
      "['perovskite', 'sntao3'] : formation_energy -1.9902640699999998\n",
      "['perovskite', 'srhfo3', 'from_zach'] : formation_energy -3.4233802374999995\n",
      "['perovskite', 'srmno3'] : formation_energy -2.291418203568964\n",
      "['perovskite', 'srseo3'] : formation_energy -1.9055136082187503\n",
      "['perovskite', 'srtio3', 'from_zach'] : formation_energy -3.1898443896666664\n",
      "['perovskite', 'srvo3'] : formation_energy -2.8501824739999995\n",
      "['perovskite', 'srzro3', 'from_zach'] : formation_energy -3.371449964999999\n",
      "['perovskite', 'ycro3', 'from_zach'] : formation_energy -3.1581179999999973\n",
      "['perovskite', 'ynio3'] : formation_energy -2.347544837499998\n",
      "['perovskite', 'zncro3'] : formation_energy -1.8293370644999982\n",
      "['perovskite', 'zngeo3'] : formation_energy -1.5545417779999995\n",
      "['perovskite', 'znmno3'] : formation_energy -1.597355216068965\n",
      "['spinel', 'vmg2o4'] : formation_energy -2.564073476825396\n",
      "['spinel', 'znal2o4'] : formation_energy -2.6333248507142852\n",
      "['perovskite', 'bageo3', 'from_zach'] : formation_energy -2.2838717454999986\n",
      "['perovskite', 'batio3', 'from_zach'] : formation_energy -3.1248499626666666\n",
      "['perovskite', 'casno3', 'from_zach'] : formation_energy -2.2740548130000007\n",
      "['perovskite', 'cazro3', 'from_zach'] : formation_energy -3.3867841184999987\n",
      "['perovskite', 'eucro3', 'from_zach'] : formation_energy -2.6684464534999974\n",
      "['perovskite', 'pralo3', 'from_zach'] : formation_energy -3.3296440849999995\n",
      "['perovskite', 'mnsno3', 'from_zach'] : formation_energy -1.7863003770689645\n",
      "['perovskite', 'srgeo3', 'from_zach'] : formation_energy -2.333516128999999\n",
      "['cdcr2o4', 'spinel', 'zunger'] : formation_energy -2.2721416699999994\n",
      "['cdga2o4', 'spinel', 'zunger'] : formation_energy -1.6912102014285726\n",
      "['liv2o4', 'spinel', 'zunger'] : formation_energy -2.6963805635714286\n",
      "['mgti2o4', 'spinel', 'zunger'] : formation_energy -3.0480225315079355\n",
      "['mgv2o4', 'spinel', 'zunger'] : formation_energy -2.9590486084126972\n",
      "['zncr2o4', 'spinel', 'zunger'] : formation_energy -2.3993448371428565\n",
      "['znga2o4', 'spinel', 'zunger'] : formation_energy -1.8310872235714284\n",
      "done\n"
     ],
     "output_type": "stream"
    }
   ],
   "source": [
    "csv_dict = Csv_dict()\n",
    "\n",
    "\n",
    "neb = []\n",
    "pc = []\n",
    "label_list = []\n",
    "for material in list(mat_dict.keys())[:]:\n",
    "    # if material in done:\n",
    "    if True:\n",
    "        mat = mat_dict[material]\n",
    "        mat_unit_criteria = get_unit_criteria(mat, material)\n",
    "        units = list(db.database.find(mat_unit_criteria).sort('energy'))\n",
    "        if not units:\n",
    "            continue\n",
    "        unit = units[0]\n",
    "\n",
    "        # vasprun = get_vasprun(unit)\n",
    "        thermo, lb_bars, ub_bars, delta = get_bars(mat, ts_dict[material])\n",
    "        bars_list = [thermo, lb_bars, ub_bars]\n",
    "        bulk = mat['base']\n",
    "        start = mat['start']\n",
    "        base = mat['base']\n",
    "        finals = mat['finals']\n",
    "        best_i = None\n",
    "        best_avg = 9e9\n",
    "        for i in range(len(ub_bars)):\n",
    "            ub = ub_bars[i]\n",
    "            lb = lb_bars[i]\n",
    "            if ub:\n",
    "                if lb:\n",
    "                    avg = (ub + lb) /2\n",
    "                    if avg < best_avg:\n",
    "                        best_i = i\n",
    "                        best_avg = avg\n",
    "        if best_i == None:\n",
    "            continue\n",
    "            # print(lb_bars)\n",
    "        # for i in range(1, len(mat['finals'])+1):\n",
    "        for i in [best_i]:\n",
    "            if thermo[i] and lb_bars[i] and ub_bars[i]:\n",
    "                final = finals[i-1]\n",
    "                lb = ts_dict[material]['lb'][i-1]\n",
    "                ub = ts_dict[material]['ub'][i-1]\n",
    "\n",
    "                ovac_e = start['energy'] - bulk['energy']\n",
    "                ovac_final = start['energy'] - bulk['energy']\n",
    "                lb_e = lb['energy'] - start['energy']\n",
    "                ub_e = max(max([x['energies'] for x in ub])) - start['energy']\n",
    "                csv_dict.add_material(mat_dict[material]['base'], mat_dict[material]['start'],\n",
    "                                      mat_dict[material]['finals'][i - 1], ovac_e, ovac_final, ub_e, lb_e, i)\n",
    "\n",
    "                for name, property in properties:\n",
    "                    value = property.get(unit, base, start, finals[i-1])\n",
    "                    if type(value) == dict:\n",
    "                        for k in value:\n",
    "                            csv_dict.add_property(unit, '{}_{}'.format(name,k), value[k], i)\n",
    "                    else:\n",
    "                        csv_dict.add_property(unit, name, value, i)\n",
    "\n",
    "                for name, property in ts_properties:\n",
    "                    value = property.get(unit, base, start, finals[i-1], lb, ub)\n",
    "                    if type(value) == dict:\n",
    "                        for k in value:\n",
    "                            csv_dict.add_property(unit, '{}_{}'.format(name,k), value[k], i)\n",
    "                    else:\n",
    "                        csv_dict.add_ts_property(unit, name, value, i)\n",
    "                csv_dict.add_ts_property(lb, 'neb', int('IMAGES' in lb['incar']), i)\n",
    "                    \n",
    "                if 'IMAGES' in ts_dict[material]['lb'][i-1]['incar']:\n",
    "                    neb.append(ub_e-lb_e)\n",
    "                else:\n",
    "                    pc.append(ub_e-lb_e)\n",
    "with open('D:\\\\My Stuff\\\\Dropbox\\\\Research\\\\Papers\\\\Figures\\\\materials.csv', 'w', newline='') as csvfile:\n",
    "    writer = csv.writer(csvfile, delimiter=',')\n",
    "    \n",
    "    additional_properties = ['lb', 'ub', 'type', 'o_p_band_center', 'band_gap', 'volume_per_atom', 'formation_energy', \n",
    "                             'atomization_energy']\n",
    "    writer.writerow(['material', 'ovac'] + additional_properties)\n",
    "    for material in csv_dict.materials:\n",
    "        for i in csv_dict.materials[material]:\n",
    "            line = list([csv_dict.materials[material][i][prop] for prop in additional_properties])\n",
    "            line = [material, str(min(csv_dict.materials[material][i]['ovac'],csv_dict.materials[material][i]['ovac_final']))] + line\n",
    "            writer.writerow(line)\n",
    "dft_error = 0.15\n",
    "def print_info(property, x=[], ydelta=[], degree=1):\n",
    "    if x == []:\n",
    "        x=np.array(csv_dict.get_column(property))\n",
    "    materials = np.array(csv_dict.get_column('material'))\n",
    "    y=np.array(csv_dict.get_column('lb'))/2+np.array(csv_dict.get_column('ub'))/2\n",
    "    w=np.array(abs(csv_dict.get_column('ub')-np.array(csv_dict.get_column('lb')))) + dft_error\n",
    "    w=(1/w)**3\n",
    "    x=x[np.where(y<cutoff)]\n",
    "    w=w[np.where(y<cutoff)]\n",
    "    materials=materials[np.where(y<cutoff)]\n",
    "    y=y[np.where(y<cutoff)]\n",
    "    \n",
    "    # # is spinel\n",
    "    # is_type = ['4' in x for x in materials]\n",
    "    # x=x[np.where(is_type)]\n",
    "    # w=w[np.where(is_type)]\n",
    "    # y=y[np.where(is_type)]\n",
    "    # # print(materials)\n",
    "    # # print(is_type)\n",
    "    # materials=materials[np.where(is_type)]\n",
    "    \n",
    "    if ydelta != []:\n",
    "        y=y+ydelta\n",
    "    fit = np.polyfit(x, y, degree, w=w)\n",
    "    f = np.poly1d(fit)\n",
    "    ybar = np.average(y,weights=w)\n",
    "    ssreg = w*(f(x) - ybar)**2\n",
    "    sstot = w*(y - ybar)**2\n",
    "    print('{:31} : {:5.2f}'.format(property, sum(ssreg)/sum(sstot)))\n",
    "    return([min(x), max(x)], [f(min(x)), f(max(x))])\n",
    "print('done')"
   ],
   "metadata": {
    "collapsed": false,
    "pycharm": {
     "name": "#%%\n",
     "is_executing": false
    }
   }
  },
  {
   "cell_type": "markdown",
   "source": [
    "Setup Regression\n"
   ],
   "metadata": {
    "collapsed": false,
    "pycharm": {
     "name": "#%% md\n"
    }
   }
  },
  {
   "cell_type": "code",
   "execution_count": 6,
   "outputs": [
    {
     "name": "stdout",
     "text": [
      "\n",
      "DFTerror=0.05 1st 0.4863971671610008\n",
      "DFTerror=0.10 1st 0.5791374622661035\n",
      "DFTerror=0.15 1st 0.6417119825142885\n",
      "\n",
      "DFTerror=0.05 2nd 0.39763069282799524\n",
      "DFTerror=0.10 2nd 0.4737169753351759\n",
      "DFTerror=0.15 2nd 0.5318886771192256\n",
      "\n"
     ],
     "output_type": "stream"
    }
   ],
   "source": [
    "w=np.array(abs(csv_dict.get_column('ub')-np.array(csv_dict.get_column('lb'))))\n",
    "msist05 = sum(1/(np.sqrt(w**2 +0.05**2)) / (1/0.05 * len(w)))\n",
    "msist10 = sum(1/(np.sqrt(w**2 +0.1**2)) / (1/0.1 * len(w)))\n",
    "msist15 = sum(1/np.sqrt((w**2+0.15**2)) / (1/0.15 * len(w)))\n",
    "msist052 = sum(1/(w**2 +0.05**2 )/ (1/0.05**2 * len(w)))\n",
    "msist102 = sum(1/(w**2 +0.1**2 )/ (1/0.1**2 * len(w)))\n",
    "msist152 = sum(1/(w**2+0.15**2) / (1/0.15**2 * len(w)))\n",
    "print('''\n",
    "DFTerror=0.05 1st {}\n",
    "DFTerror=0.10 1st {}\n",
    "DFTerror=0.15 1st {}\n",
    "\n",
    "DFTerror=0.05 2nd {}\n",
    "DFTerror=0.10 2nd {}\n",
    "DFTerror=0.15 2nd {}\n",
    "'''.format(msist05, msist10, msist15, msist052, msist102, msist152))"
   ],
   "metadata": {
    "collapsed": false,
    "pycharm": {
     "name": "#%%\n",
     "is_executing": false
    }
   }
  },
  {
   "cell_type": "code",
   "execution_count": 7,
   "outputs": [
    {
     "name": "stdout",
     "text": [
      "['material', 'i', 'ovac', 'lb', 'ub', 'type', 'o_p_band_center', 'o_p_band_center_with_conduction', 'band_gap', 'band_gap_base', 'efermi', 'efermi_vac', 'volume_per_atom', 'bond_A_Bonds', 'bond_A_length', 'bond_B_Bonds', 'bond_B_length', 'bond_avg_length', 'bond_final_A_Bonds', 'bond_final_A_length', 'bond_final_B_Bonds', 'bond_final_B_length', 'bond_final_avg_length', 'crit_triangle', 'diffusion_distance', 'crit_triangle_adjusted', 'formation_energy', 'atomization_energy', 'pauling_diff', 'pauling_diff_start', 'pauling_diff_weighted', 'pauling_diff_start_weighted']\n",
      "LinregressResult(slope=0.26497192701260347, intercept=-0.9126749390090214, rvalue=0.6176395027671263, pvalue=1.5979644957529327e-11, stderr=0.03461627860970114)\n",
      "LinregressResult(slope=0.28499969109818, intercept=0.8216751973290463, rvalue=0.4732931821651218, pvalue=9.788625032174741e-07, stderr=0.054422864624709674)\n",
      "LinregressResult(slope=0.26497192701260347, intercept=-0.9126749390090214, rvalue=0.6176395027671263, pvalue=1.5979644957529327e-11, stderr=0.03461627860970114)\n"
     ],
     "output_type": "stream"
    }
   ],
   "source": [
    "import scipy\n",
    "cutoff = 10\n",
    "print(csv_dict.get_header())\n",
    "ovac=np.array(csv_dict.get_column('ovac'))\n",
    "bg=np.array(csv_dict.get_column('band_gap'))\n",
    "avg=np.array(csv_dict.get_column('bond_avg_length'))\n",
    "\n",
    "label_list = np.array(csv_dict.get_column('material'))\n",
    "i_list = np.array(csv_dict.get_column('i'))\n",
    "y=np.array(csv_dict.get_column('lb'))/2+np.array(csv_dict.get_column('ub'))/2\n",
    "ovac=ovac[np.where(y<cutoff)]\n",
    "bg=bg[np.where(y<cutoff)]\n",
    "avg=avg[np.where(y<cutoff)]\n",
    "label_list = label_list[np.where(y<cutoff)]\n",
    "i_list = i_list[np.where(y<cutoff)]\n",
    "y=y[np.where(y<cutoff)]\n",
    "\n",
    "master_linreg = scipy.stats.linregress(ovac, y)\n",
    "print(master_linreg)\n",
    "f = lambda x : master_linreg.intercept + master_linreg.slope*x\n",
    "f_ovac = f(ovac)\n",
    "\n",
    "bg_linreg = scipy.stats.linregress(bg, y)\n",
    "print(bg_linreg)\n",
    "bg_f = lambda x : bg_linreg.intercept + bg_linreg.slope*x\n",
    "f_bg = bg_f(ovac)\n",
    "\n",
    "master_linreg2 = scipy.stats.linregress(avg, y - f(ovac))\n",
    "print(master_linreg)\n",
    "f2 = lambda x : master_linreg2.intercept + master_linreg2.slope*x\n",
    "\n",
    "\n",
    "min_cutoff = -100\n",
    "fermi_shift_cutoff = 0.3\n",
    "combinations = [\n",
    "    (\n",
    "        'metal',\n",
    "        np.int64(np.array(csv_dict.get_column('band_gap')) < 0.01)\n",
    "    ),\n",
    "    (\n",
    "        'relative_op' , \n",
    "        np.array(csv_dict.get_column('o_p_band_center')) - np.array(csv_dict.get_column('efermi'))\n",
    "    ),\n",
    "    (\n",
    "        'relative_op_vac',\n",
    "        np.array(csv_dict.get_column('o_p_band_center')) - np.array(csv_dict.get_column('efermi_vac'))\n",
    "    ),\n",
    "    (\n",
    "        'fermi_shift',\n",
    "        np.array(csv_dict.get_column('efermi_vac')) - np.array(csv_dict.get_column('efermi'))\n",
    "    ),\n",
    "    (\n",
    "        'fermi_shift_binary',\n",
    "        np.int64(np.array(csv_dict.get_column('efermi_vac')) - np.array(csv_dict.get_column('efermi')) > fermi_shift_cutoff)\n",
    "    ),\n",
    "    (\n",
    "        'bg_left',\n",
    "        np.array(csv_dict.get_column('band_gap')) - (np.array(csv_dict.get_column('efermi_vac')) - np.array(csv_dict.get_column('efermi')))\n",
    "    ),\n",
    "    (\n",
    "        'ts_shift',\n",
    "        np.array(csv_dict.get_column('ts_efermi')) - np.array(csv_dict.get_column('efermi_vac'))\n",
    "    ),\n",
    "    (\n",
    "        'ts_shift_binary',\n",
    "        np.int64(np.array(csv_dict.get_column('ts_efermi')) - np.array(csv_dict.get_column('efermi_vac')) > fermi_shift_cutoff)\n",
    "    ),\n",
    "    (\n",
    "        'ts_total_shift',\n",
    "        np.array(csv_dict.get_column('ts_efermi')) - np.array(csv_dict.get_column('efermi'))\n",
    "    ),\n",
    "]\n",
    "\n"
   ],
   "metadata": {
    "collapsed": false,
    "pycharm": {
     "name": "#%%\n",
     "is_executing": false
    }
   }
  },
  {
   "cell_type": "markdown",
   "source": [
    "Linear Regression"
   ],
   "metadata": {
    "collapsed": false
   }
  },
  {
   "cell_type": "code",
   "execution_count": 8,
   "outputs": [
    {
     "name": "stdout",
     "text": [
      "ovac                            :  0.43\n",
      "o_p_band_center                 :  0.14\n",
      "o_p_band_center_with_conduction :  0.04\n",
      "band_gap                        :  0.30\n",
      "band_gap_base                   :  0.14\n",
      "efermi                          :  0.10\n",
      "efermi_vac                      :  0.24\n",
      "volume_per_atom                 :  0.25\n",
      "bond_A_Bonds                    :  0.38\n",
      "bond_A_length                   :  0.44\n",
      "bond_B_Bonds                    :  0.35\n",
      "bond_B_length                   :  0.06\n",
      "bond_avg_length                 :  0.39\n",
      "bond_final_A_Bonds              :  0.41\n",
      "bond_final_A_length             :  0.45\n",
      "bond_final_B_Bonds              :  0.41\n",
      "bond_final_B_length             :  0.01\n",
      "bond_final_avg_length           :  0.40\n",
      "crit_triangle                   :  0.03\n",
      "diffusion_distance              :  0.02\n",
      "crit_triangle_adjusted          :  0.37\n",
      "formation_energy                :  0.06\n",
      "atomization_energy              :  0.08\n",
      "pauling_diff                    :  0.17\n",
      "pauling_diff_start              :  0.14\n",
      "pauling_diff_weighted           :  0.11\n",
      "pauling_diff_start_weighted     :  0.08\n",
      "metal                           :  0.16\n",
      "relative_op                     :  0.14\n",
      "relative_op_vac                 :  0.29\n",
      "fermi_shift                     :  0.10\n",
      "fermi_shift_binary              :  0.07\n",
      "bg_left                         :  0.20\n",
      "ts_shift                        :  0.12\n",
      "ts_shift_binary                 :  0.25\n",
      "ts_total_shift                  :  0.21\n",
      "\n",
      "After Ovac\n",
      "\n",
      "ovac                            :  0.01\n",
      "o_p_band_center                 :  0.12\n",
      "o_p_band_center_with_conduction :  0.01\n",
      "band_gap                        :  0.03\n",
      "band_gap_base                   :  0.02\n",
      "efermi                          :  0.06\n",
      "efermi_vac                      :  0.04\n",
      "volume_per_atom                 :  0.25\n",
      "bond_A_Bonds                    :  0.29\n",
      "bond_A_length                   :  0.39\n",
      "bond_B_Bonds                    :  0.27\n",
      "bond_B_length                   :  0.10\n",
      "bond_avg_length                 :  0.33\n",
      "bond_final_A_Bonds              :  0.31\n",
      "bond_final_A_length             :  0.39\n",
      "bond_final_B_Bonds              :  0.32\n",
      "bond_final_B_length             :  0.03\n",
      "bond_final_avg_length           :  0.34\n",
      "crit_triangle                   :  0.04\n",
      "diffusion_distance              :  0.02\n",
      "crit_triangle_adjusted          :  0.35\n",
      "formation_energy                :  0.04\n",
      "atomization_energy              :  0.03\n",
      "pauling_diff                    :  0.20\n",
      "pauling_diff_start              :  0.17\n",
      "pauling_diff_weighted           :  0.19\n",
      "pauling_diff_start_weighted     :  0.15\n",
      "metal                           :  0.01\n",
      "relative_op                     :  0.10\n",
      "relative_op_vac                 :  0.11\n",
      "fermi_shift                     :  0.01\n",
      "fermi_shift_binary              :  0.02\n",
      "bg_left                         :  0.07\n",
      "ts_shift                        :  0.10\n",
      "ts_shift_binary                 :  0.15\n",
      "ts_total_shift                  :  0.03\n",
      "Over Estimated\n",
      "['SrTiO3' 'CaTiO3' 'BaCeO3' 'LaTiO3' 'BaTiO3' 'LaCrO3' 'LiV2O4' 'CaVO3'\n",
      " 'BiAlO3' 'MgCr2O4' 'FeMn2O4' 'SnHfO3' 'MgSeO3' 'BiVO3' 'BiSbO3' 'CaZrO3'\n",
      " 'LaMnO3' 'SrVO3' 'BiMnO3' 'SrSeO3' 'SnNiO3' 'LaInO3' 'CuAl2O4' 'EuCrO3'\n",
      " 'ZnCrO3']\n",
      "[3 3 1 6 3 3 3 6 1 2 2 3 3 2 4 2 8 1 1 3 6 1 2 5 2]\n",
      "Under Estimated\n",
      "['SrGeO3' 'ZnMnO3' 'BaCoO3' 'FeAl2O4' 'SrCoO3' 'CoGa2O4' 'ZnGa2O4'\n",
      " 'VMg2O4' 'PrAlO3' 'SnTaO3' 'ScAlO3' 'MnAl2O4' 'MgGeO3' 'YAlO3' 'LaAlO3'\n",
      " 'CoSeO3' 'MgAl2O4' 'InAlO3' 'GeSiO3' 'CoAl2O4' 'CdCr2O4' 'GeNi2O4'\n",
      " 'ZnAl2O4' 'ZnCr2O4' 'GeFe2O4']\n",
      "[ 1  2  3  1  2  1  1  2  3  2  1  2 10  5  1  1  2  4  2  3  1  1  3  3\n",
      "  2]\n"
     ],
     "output_type": "stream"
    },
    {
     "name": "stderr",
     "text": [
      "D:\\ProgramData\\Miniconda3\\envs\\default\\lib\\site-packages\\ipykernel_launcher.py:86: DeprecationWarning: elementwise comparison failed; this will raise an error in the future.\n",
      "D:\\ProgramData\\Miniconda3\\envs\\default\\lib\\site-packages\\ipykernel_launcher.py:106: DeprecationWarning: elementwise comparison failed; this will raise an error in the future.\n"
     ],
     "output_type": "stream"
    }
   ],
   "source": [
    "for property in csv_dict.get_header()[2:3] + csv_dict.get_header()[6:]:\n",
    "    print_info(property)\n",
    "    # print(linreg)\n",
    "    \n",
    "for property, x in combinations:\n",
    "    print_info(property, x)\n",
    "\n",
    "print('\\nAfter Ovac\\n')\n",
    "for property in csv_dict.get_header()[2:3] + csv_dict.get_header()[6:]:\n",
    "    print_info(property, ydelta=-f_ovac)\n",
    "    \n",
    "for property, x in combinations:\n",
    "    print_info(property, x=x, ydelta=-f_ovac)\n",
    "    \n",
    "y=np.array(csv_dict.get_column('lb'))/2+np.array(csv_dict.get_column('ub'))/2\n",
    "y = y - f(ovac)\n",
    "num = 25\n",
    "over_mat = label_list[y.argsort()[:num][::1]]\n",
    "over_i = i_list[y.argsort()[:num][::1]]\n",
    "under_mat = label_list[y.argsort()[-num:][::1]]\n",
    "under_i = i_list[y.argsort()[-num:][::1]]\n",
    "print('Over Estimated')\n",
    "print(over_mat)\n",
    "print(over_i)\n",
    "print('Under Estimated')\n",
    "print(under_mat)\n",
    "print(under_i)\n",
    "\n",
    "\n",
    "\n",
    "# print(i_list)\n",
    "# print(np.int64(x>0.1))\n",
    "# print(np.average(y))\n",
    "# print(max(y))\n",
    "# print(min(y))\n",
    "# print(y)"
   ],
   "metadata": {
    "collapsed": false,
    "pycharm": {
     "name": "#%%\n",
     "is_executing": false
    }
   }
  },
  {
   "cell_type": "markdown",
   "source": [
    "Quadratic Regression"
   ],
   "metadata": {
    "collapsed": false
   }
  },
  {
   "cell_type": "code",
   "execution_count": 9,
   "outputs": [
    {
     "name": "stdout",
     "text": [
      "ovac                            :  0.43\n",
      "o_p_band_center                 :  0.14\n",
      "o_p_band_center_with_conduction :  0.04\n",
      "band_gap                        :  0.30\n",
      "band_gap_base                   :  0.16\n",
      "efermi                          :  0.11\n",
      "efermi_vac                      :  0.24\n",
      "volume_per_atom                 :  0.29\n",
      "bond_A_Bonds                    :  0.50\n",
      "bond_A_length                   :  0.50\n",
      "bond_B_Bonds                    :  0.35\n",
      "bond_B_length                   :  0.29\n",
      "bond_avg_length                 :  0.53\n",
      "bond_final_A_Bonds              :  0.50\n",
      "bond_final_A_length             :  0.51\n",
      "bond_final_B_Bonds              :  0.45\n",
      "bond_final_B_length             :  0.38\n",
      "bond_final_avg_length           :  0.54\n",
      "crit_triangle                   :  0.06\n",
      "diffusion_distance              :  0.05\n",
      "crit_triangle_adjusted          :  0.39\n",
      "formation_energy                :  0.09\n",
      "atomization_energy              :  0.08\n",
      "pauling_diff                    :  0.17\n",
      "pauling_diff_start              :  0.14\n",
      "pauling_diff_weighted           :  0.13\n",
      "pauling_diff_start_weighted     :  0.10\n",
      "metal                           :  0.16\n",
      "relative_op                     :  0.15\n",
      "relative_op_vac                 :  0.29\n",
      "fermi_shift                     :  0.10\n",
      "fermi_shift_binary              :  0.07\n",
      "bg_left                         :  0.20\n",
      "ts_shift                        :  0.33\n",
      "ts_shift_binary                 :  0.25\n",
      "ts_total_shift                  :  0.21\n",
      "\n",
      "After Ovac\n",
      "\n",
      "ovac                            :  0.02\n",
      "o_p_band_center                 :  0.16\n",
      "o_p_band_center_with_conduction :  0.01\n",
      "band_gap                        :  0.04\n",
      "band_gap_base                   :  0.04\n",
      "efermi                          :  0.06\n",
      "efermi_vac                      :  0.05\n",
      "volume_per_atom                 :  0.29\n",
      "bond_A_Bonds                    :  0.41\n",
      "bond_A_length                   :  0.46\n",
      "bond_B_Bonds                    :  0.27\n",
      "bond_B_length                   :  0.17\n",
      "bond_avg_length                 :  0.39\n",
      "bond_final_A_Bonds              :  0.41\n",
      "bond_final_A_length             :  0.48\n",
      "bond_final_B_Bonds              :  0.35\n",
      "bond_final_B_length             :  0.35\n",
      "bond_final_avg_length           :  0.40\n",
      "crit_triangle                   :  0.08\n",
      "diffusion_distance              :  0.08\n",
      "crit_triangle_adjusted          :  0.40\n",
      "formation_energy                :  0.05\n",
      "atomization_energy              :  0.04\n",
      "pauling_diff                    :  0.20\n",
      "pauling_diff_start              :  0.17\n",
      "pauling_diff_weighted           :  0.20\n",
      "pauling_diff_start_weighted     :  0.16\n",
      "metal                           :  0.01\n",
      "relative_op                     :  0.10\n",
      "relative_op_vac                 :  0.11\n",
      "fermi_shift                     :  0.01\n",
      "fermi_shift_binary              :  0.02\n",
      "bg_left                         :  0.07\n",
      "ts_shift                        :  0.22\n",
      "ts_shift_binary                 :  0.15\n",
      "ts_total_shift                  :  0.03\n"
     ],
     "output_type": "stream"
    },
    {
     "name": "stderr",
     "text": [
      "D:\\ProgramData\\Miniconda3\\envs\\default\\lib\\site-packages\\ipykernel_launcher.py:86: DeprecationWarning: elementwise comparison failed; this will raise an error in the future.\n",
      "D:\\ProgramData\\Miniconda3\\envs\\default\\lib\\site-packages\\ipykernel_launcher.py:6: RankWarning: Polyfit may be poorly conditioned\n",
      "  \n",
      "D:\\ProgramData\\Miniconda3\\envs\\default\\lib\\site-packages\\ipykernel_launcher.py:6: RankWarning: Polyfit may be poorly conditioned\n",
      "  \n",
      "D:\\ProgramData\\Miniconda3\\envs\\default\\lib\\site-packages\\ipykernel_launcher.py:6: RankWarning: Polyfit may be poorly conditioned\n",
      "  \n",
      "D:\\ProgramData\\Miniconda3\\envs\\default\\lib\\site-packages\\ipykernel_launcher.py:106: DeprecationWarning: elementwise comparison failed; this will raise an error in the future.\n",
      "D:\\ProgramData\\Miniconda3\\envs\\default\\lib\\site-packages\\ipykernel_launcher.py:13: RankWarning: Polyfit may be poorly conditioned\n",
      "  del sys.path[0]\n",
      "D:\\ProgramData\\Miniconda3\\envs\\default\\lib\\site-packages\\ipykernel_launcher.py:13: RankWarning: Polyfit may be poorly conditioned\n",
      "  del sys.path[0]\n",
      "D:\\ProgramData\\Miniconda3\\envs\\default\\lib\\site-packages\\ipykernel_launcher.py:13: RankWarning: Polyfit may be poorly conditioned\n",
      "  del sys.path[0]\n"
     ],
     "output_type": "stream"
    }
   ],
   "source": [
    "for property in csv_dict.get_header()[2:3] + csv_dict.get_header()[6:]:\n",
    "    print_info(property, degree=2)\n",
    "    # print(linreg)\n",
    "    \n",
    "for property, x in combinations:\n",
    "    print_info(property, x, degree=2)\n",
    "\n",
    "print('\\nAfter Ovac\\n')\n",
    "for property in csv_dict.get_header()[2:3] + csv_dict.get_header()[6:]:\n",
    "    print_info(property, ydelta=-f_ovac, degree=2)\n",
    "    \n",
    "for property, x in combinations:\n",
    "    print_info(property, x=x, ydelta=-f_ovac, degree=2)"
   ],
   "metadata": {
    "collapsed": false,
    "pycharm": {
     "name": "#%%\n",
     "is_executing": false
    }
   }
  },
  {
   "cell_type": "markdown",
   "source": [
    "Oxygen Vacancy"
   ],
   "metadata": {
    "collapsed": false,
    "pycharm": {
     "name": "#%% md\n"
    }
   }
  },
  {
   "cell_type": "code",
   "execution_count": 10,
   "outputs": [
    {
     "name": "stdout",
     "text": [
      "ovac                            :  0.43\n",
      "\n",
      "Pathway Count:  517\n",
      "Calculated UB:  325\n",
      "Material Count: 97\n",
      "\n",
      "\n",
      "Spinel Count     : 22  \n",
      "Perovskite Count : 75\n",
      "\n",
      "0\n",
      "0\n"
     ],
     "output_type": "stream"
    },
    {
     "name": "stderr",
     "text": [
      "D:\\ProgramData\\Miniconda3\\envs\\default\\lib\\site-packages\\ipykernel_launcher.py:27: UserWarning: Matplotlib is currently using module://ipykernel.pylab.backend_inline, which is a non-GUI backend, so cannot show the figure.\n"
     ],
     "output_type": "stream"
    },
    {
     "data": {
      "text/plain": "<Figure size 288x288 with 1 Axes>",
      "image/png": "[encoded data removed]"
     },
     "metadata": {
      "needs_background": "light"
     },
     "output_type": "display_data"
    }
   ],
   "source": [
    "if comps:\n",
    "    fig_all, ax_all = plt.subplots(figsize=(4, 4))\n",
    "else:\n",
    "    fig_all, ax_all = plt.subplots(figsize=(4, 4))\n",
    "\n",
    "\n",
    "ax_all.plot([-1], [-1], color='blue', marker='_', linewidth=linewidth, markersize=8, markeredgewidth=linewidth, )\n",
    "ax_all.plot([-1], [-1], color='red', marker='_', linewidth=linewidth, markersize=8, markeredgewidth=linewidth, )\n",
    "ax_all.plot([-1], [-1], color='lightblue', marker='_', linewidth=linewidth, markersize=8, markeredgewidth=linewidth, )\n",
    "\n",
    "ax_all.plot([-1], [-1], color='black', marker='_', linewidth=linewidth, markersize=8, markeredgewidth=linewidth, )\n",
    "ax_all.legend(['Perovskites', 'Spinels', 'Higher Energy Diffusion Pathway', 'Linear Regression'], loc='upper left', \n",
    "              framealpha=1, frameon=False)\n",
    "ax_all.set_ylabel('Diffusion Barrier (eV)')\n",
    "ax_all.set_xlabel('Oxygen Vacancy Energy (eV)')\n",
    "\n",
    "ax_all.set_ylim([0,5])\n",
    "ax_all.set_xlim([-2, 8])\n",
    "\n",
    "labels = []\n",
    "\n",
    "\n",
    "\n",
    "material_count = 0\n",
    "ub_count = 0\n",
    "max_diff = 3\n",
    "spinel_count = 0\n",
    "perovskite_count = 0\n",
    "pathway_count = 0\n",
    "ub_pathway_count = 0\n",
    "\n",
    "x,y = print_info('ovac')\n",
    "plt.plot(np.array(x) + get_FERE_chemical_potential('O'), y, color='k', zorder=-1)\n",
    "\n",
    "for material in list(mat_dict.keys())[:]:\n",
    "    # if material in done:\n",
    "    if True:\n",
    "        try:\n",
    "            mat = mat_dict[material]\n",
    "            # if 'perovskite' in mat['base']['material']:\n",
    "            #     continue\n",
    "\n",
    "            thermo, lb_bars, ub_bars, delta = get_bars(mat, ts_dict[material])\n",
    "            # print(ub_bars)\n",
    "            if not any(np.array(copy.copy(ub_bars)) > 0):\n",
    "                continue\n",
    "            mat_unit_criteria = get_unit_criteria(mat, material)\n",
    "            units = list(db.database.find(mat_unit_criteria).sort('energy'))\n",
    "            unit = units[0]\n",
    "\n",
    "            pathway_count += len([x for x in lb_bars if x != 0])\n",
    "            ub_pathway_count += len([x for x in ub_bars if x != 0])\n",
    "            bars_list = [thermo, lb_bars, ub_bars]\n",
    "            plot_full(mat_dict, material, fig_all, ax_all, bars_list, labels=labels, label_all=label_all, string=string,\n",
    "                      max_diff=max_diff, linewidth=linewidth, plot_higher_barriers=True)\n",
    "            material_count += 1\n",
    "            if 'spinel' in mat['base']['material']:\n",
    "                spinel_count += 1\n",
    "            elif 'perovskite' in mat['base']['material']:\n",
    "                perovskite_count += 1\n",
    "        except:\n",
    "            pass\n",
    "savefig('ovac', fig_all)\n",
    "\n",
    "print('''\n",
    "Pathway Count:  {}\n",
    "Calculated UB:  {}\n",
    "Material Count: {}\n",
    "'''.format(pathway_count, ub_pathway_count, material_count))\n",
    "print('''\n",
    "Spinel Count     : {}  \n",
    "Perovskite Count : {}\n",
    "'''.format(spinel_count, perovskite_count))\n",
    "print(count)\n",
    "print(ub_count)"
   ],
   "metadata": {
    "collapsed": false,
    "pycharm": {
     "name": "#%% Ovac\n",
     "is_executing": false
    }
   }
  },
  {
   "cell_type": "markdown",
   "source": [
    "Bandgap"
   ],
   "metadata": {
    "collapsed": false,
    "pycharm": {
     "name": "#%% md\n"
    }
   }
  },
  {
   "cell_type": "code",
   "execution_count": 11,
   "outputs": [
    {
     "name": "stderr",
     "text": [
      "D:\\ProgramData\\Miniconda3\\envs\\default\\lib\\site-packages\\ipykernel_launcher.py:27: UserWarning: Matplotlib is currently using module://ipykernel.pylab.backend_inline, which is a non-GUI backend, so cannot show the figure.\n"
     ],
     "output_type": "stream"
    },
    {
     "name": "stdout",
     "text": [
      "100\n"
     ],
     "output_type": "stream"
    },
    {
     "data": {
      "text/plain": "<Figure size 288x288 with 1 Axes>",
      "image/png": "[encoded data removed]"
     },
     "metadata": {
      "needs_background": "light"
     },
     "output_type": "display_data"
    }
   ],
   "source": [
    "if comps:\n",
    "    fig_all, ax_all = plt.subplots(figsize=(4, 4))\n",
    "else:\n",
    "    fig_all, ax_all = plt.subplots(figsize=(4, 4))\n",
    "\n",
    "\n",
    "ax_all.plot([-1], [-1], color='blue', marker='_', linewidth=linewidth, markersize=8, markeredgewidth=linewidth, )\n",
    "ax_all.plot([-1], [-1], color='red', marker='_', linewidth=linewidth, markersize=8, markeredgewidth=linewidth, )\n",
    "ax_all.plot([-1], [-1], color='lightblue', marker='_', linewidth=linewidth, markersize=8, markeredgewidth=linewidth, )\n",
    "ax_all.legend(['Perovskites', 'Spinels', 'Higher Energy Diffusion Pathway'], loc='upper left')\n",
    "ax_all.set_ylabel('Diffusion Barrier (eV)')\n",
    "ax_all.set_xlabel('Band Gap (eV)')\n",
    "\n",
    "ax_all.set_ylim([0,5])\n",
    "ax_all.set_xlim([0, 6])\n",
    "\n",
    "labels = []\n",
    "unit_criteria = {\n",
    "            'defect_type': {'$exists': False},\n",
    "            'ts_type': {'$exists': False},\n",
    "            'material': {'$all': [], '$in': ['spinel', 'perovskite'], '$nin': ['from_zach']},\n",
    "            'labels' : {\n",
    "                '$all' : ['unit_cell'],\n",
    "                '$nin' : ['surface']}\n",
    "        }\n",
    "\n",
    "pathway_count = 0\n",
    "spinel_count = 0\n",
    "perovskite_count = 0\n",
    "ub_count = 0\n",
    "max_diff = 3\n",
    "ranges = []\n",
    "\n",
    "for material in list(mat_dict.keys())[:]:\n",
    "    # if material in done:\n",
    "    if True:\n",
    "        try:\n",
    "            mat = mat_dict[material]\n",
    "    \n",
    "            mat_unit_criteria = get_unit_criteria(mat, material)\n",
    "            units = list(db.database.find(mat_unit_criteria).sort('energy'))\n",
    "            unit = units[0]\n",
    "    \n",
    "            thermo, lb_bars, ub_bars, delta = get_bars(mat, ts_dict[material])\n",
    "            bars_list = [[unit['band_gap']]*len(thermo), lb_bars, ub_bars]\n",
    "            for ub, lb in zip(ub_bars[1:], lb_bars[1:]):\n",
    "                if ub>0 and lb>0:\n",
    "                    ranges.append(abs(ub-lb))\n",
    "            plot_full(mat_dict, material, fig_all, ax_all, bars_list, labels=labels, label_all=label_all, string=string,\n",
    "                      max_diff=max_diff, linewidth=linewidth, plot_higher_barriers=True)\n",
    "            pathway_count+= 1\n",
    "        except:\n",
    "            pass\n",
    "\n",
    "savefig('bandgap', fig_all)\n",
    "print(pathway_count)\n",
    "    # with open('C:\\\\Users\\\\RyanTrottier\\\\PycharmProjects\\\\untitled\\\\diffusion_barriers\\\\materials.csv', 'w', newline='') as csvfile:\n",
    "    #     writer = csv.writer(csvfile, delimiter=',')\n",
    "    #     for line in csv_dict.get_list():\n",
    "    #         writer.writerow(line)"
   ],
   "metadata": {
    "collapsed": false,
    "pycharm": {
     "name": "#%% Full Plot\n",
     "is_executing": false
    }
   }
  },
  {
   "cell_type": "markdown",
   "source": [
    "Bond Length"
   ],
   "metadata": {
    "collapsed": false
   }
  },
  {
   "cell_type": "code",
   "execution_count": 12,
   "outputs": [
    {
     "name": "stderr",
     "text": [
      "D:\\ProgramData\\Miniconda3\\envs\\default\\lib\\site-packages\\ipykernel_launcher.py:27: UserWarning: Matplotlib is currently using module://ipykernel.pylab.backend_inline, which is a non-GUI backend, so cannot show the figure.\n"
     ],
     "output_type": "stream"
    },
    {
     "name": "stdout",
     "text": [
      "98\n"
     ],
     "output_type": "stream"
    },
    {
     "data": {
      "text/plain": "<Figure size 288x288 with 1 Axes>",
      "image/png": "[encoded data removed]"
     },
     "metadata": {
      "needs_background": "light"
     },
     "output_type": "display_data"
    }
   ],
   "source": [
    "if comps:\n",
    "    fig_all, ax_all = plt.subplots(figsize=(4, 4))\n",
    "else:\n",
    "    fig_all, ax_all = plt.subplots(figsize=(4, 4))\n",
    "\n",
    "\n",
    "ax_all.plot([-1], [-1], color='blue', marker='_', linewidth=linewidth, markersize=8, markeredgewidth=linewidth, )\n",
    "ax_all.plot([-1], [-1], color='red', marker='_', linewidth=linewidth, markersize=8, markeredgewidth=linewidth, )\n",
    "ax_all.plot([-1], [-1], color='lightblue', marker='_', linewidth=linewidth, markersize=8, markeredgewidth=linewidth, )\n",
    "ax_all.legend(['Perovskites', 'Spinels', 'Higher Energy Diffusion Pathway'], loc='upper left')\n",
    "ax_all.set_ylabel('Diffusion Barrier (eV)')\n",
    "ax_all.set_xlabel('Average Bond Length ($\\AA$)')\n",
    "\n",
    "ax_all.set_ylim([0,5])\n",
    "ax_all.set_xlim([1.75, 3.0])\n",
    "\n",
    "labels = []\n",
    "unit_criteria = {\n",
    "            'defect_type': {'$exists': False},\n",
    "            'ts_type': {'$exists': False},\n",
    "            'material': {'$all': [], '$in': ['spinel', 'perovskite'], '$nin': ['from_zach']},\n",
    "            'labels' : {\n",
    "                '$all' : ['unit_cell'],\n",
    "                '$nin' : ['surface']}\n",
    "        }\n",
    "\n",
    "pathway_count = 0\n",
    "spinel_count = 0\n",
    "perovskite_count = 0\n",
    "ub_count = 0\n",
    "max_diff = 3\n",
    "ranges = []\n",
    "\n",
    "for material in list(mat_dict.keys())[:]:\n",
    "    # if material in done:\n",
    "    if True:\n",
    "        try:\n",
    "            mat = mat_dict[material]\n",
    "    \n",
    "            mat_unit_criteria = get_unit_criteria(mat, material)\n",
    "            units = list(db.database.find(mat_unit_criteria).sort('energy'))\n",
    "            unit = units[0]\n",
    "    \n",
    "            thermo, lb_bars, ub_bars, delta = get_bars(mat, ts_dict[material])\n",
    "            bars_list = [[mat['start']['bond']['avg_length']]*len(thermo), lb_bars, ub_bars]\n",
    "            for ub, lb in zip(ub_bars[1:], lb_bars[1:]):\n",
    "                if ub>0 and lb>0:\n",
    "                    ranges.append(abs(ub-lb))\n",
    "            plot_full(mat_dict, material, fig_all, ax_all, bars_list, labels=labels, label_all=label_all, string=string,\n",
    "                      max_diff=max_diff, linewidth=linewidth, plot_higher_barriers=True)\n",
    "            pathway_count+= 1\n",
    "        except:\n",
    "            pass\n",
    "\n",
    "savefig('bondlength', fig_all)\n",
    "print(pathway_count)"
   ],
   "metadata": {
    "collapsed": false,
    "pycharm": {
     "name": "#%% Full Plot\n",
     "is_executing": false
    }
   }
  },
  {
   "cell_type": "markdown",
   "source": [
    "Count"
   ],
   "metadata": {
    "collapsed": false,
    "pycharm": {
     "name": "#%% md\n",
     "is_executing": true
    }
   },
   "outputs": [
    {
     "data": {
      "text/plain": "(array([96., 49., 29., 27., 25., 18., 10.,  5.,  9.,  6.,  7.,  4.,  1.,\n         6.,  3.,  2.,  6.,  6.,  3.,  1.,  0.,  0.,  1.,  0.,  1.]),\n array([0.        , 0.18117016, 0.36234032, 0.54351048, 0.72468064,\n        0.9058508 , 1.08702096, 1.26819112, 1.44936128, 1.63053144,\n        1.8117016 , 1.99287176, 2.17404192, 2.35521207, 2.53638223,\n        2.71755239, 2.89872255, 3.07989271, 3.26106287, 3.44223303,\n        3.62340319, 3.80457335, 3.98574351, 4.16691367, 4.34808383,\n        4.52925399]),\n <a list of 25 Patch objects>)"
     },
     "metadata": {},
     "output_type": "execute_result",
     "execution_count": 10
    },
    {
     "data": {
      "text/plain": "<Figure size 432x288 with 1 Axes>",
      "image/png": "[encoded data removed]"
     },
     "metadata": {
      "needs_background": "light"
     },
     "output_type": "display_data"
    }
   ]
  },
  {
   "cell_type": "code",
   "execution_count": 13,
   "outputs": [
    {
     "data": {
      "text/plain": "<Figure size 288x144 with 1 Axes>",
      "image/png": "[encoded data removed]"
     },
     "metadata": {
      "needs_background": "light"
     },
     "output_type": "display_data"
    },
    {
     "name": "stdout",
     "text": [
      "0\n",
      "103\n",
      "317\n",
      "0\n",
      "0\n"
     ],
     "output_type": "stream"
    }
   ],
   "source": [
    "plt.subplots(figsize=(4,2))\n",
    "ranges=np.array(ranges)\n",
    "ranges=ranges[ranges<5]\n",
    "plt.hist(ranges, bins=50)\n",
    "plt.ylabel('Number of Pathways')\n",
    "plt.xlabel('MSIST Range')\n",
    "savefig('Count')\n",
    "# plt.xlim([0, 5])\n",
    "\n",
    "print(count)\n",
    "print(len(ranges[ranges<0.1]))\n",
    "print(len(ranges))\n",
    "print(spinel_count)\n",
    "print(perovskite_count)"
   ],
   "metadata": {
    "collapsed": false,
    "pycharm": {
     "name": "#%%\n",
     "is_executing": false
    }
   }
  },
  {
   "cell_type": "code",
   "execution_count": 14,
   "outputs": [
    {
     "name": "stdout",
     "text": [
      "\n",
      "Energies\n",
      "NEB: 0.3599946533333314\n",
      "PC:  0.28596413534883525\n",
      "Tot: 0.3271770010309259\n",
      "\n",
      "Length\n",
      "NEB: 54\n",
      "PC:  43\n",
      "Tot: 97\n",
      "\n"
     ],
     "output_type": "stream"
    }
   ],
   "source": [
    "print('''\n",
    "Energies\n",
    "NEB: {}\n",
    "PC:  {}\n",
    "Tot: {}\n",
    "\n",
    "Length\n",
    "NEB: {}\n",
    "PC:  {}\n",
    "Tot: {}\n",
    "'''.format(np.average(neb), np.average(pc), np.average(neb+pc),\n",
    "           len(neb), len(pc), len(neb+pc)))\n"
   ],
   "metadata": {
    "collapsed": false,
    "pycharm": {
     "name": "#%% get csv properties\n",
     "is_executing": false
    }
   }
  },
  {
   "cell_type": "markdown",
   "source": [
    "UB Graphs"
   ],
   "metadata": {
    "collapsed": false,
    "pycharm": {
     "name": "#%% md\n",
     "is_executing": false
    }
   }
  },
  {
   "cell_type": "code",
   "execution_count": 15,
   "outputs": [
    {
     "data": {
      "text/plain": "<Figure size 432x360 with 1 Axes>",
      "image/png": "[encoded data removed]"
     },
     "metadata": {
      "needs_background": "light"
     },
     "output_type": "display_data"
    }
   ],
   "source": [
    "np.random.seed(3)\n",
    "plt.subplots(figsize=(6, 5))\n",
    "for label, i in zip(label_list, i_list):\n",
    "    fraction = 0.15\n",
    "    mat =label.lower()\n",
    "    exclude = ['bamno3']\n",
    "    if mat in exclude:\n",
    "        continue\n",
    "    i = i-1\n",
    "    ub_all = ts_dict[mat]['ub'][i]\n",
    "    if len(ub_all) != 2 or np.random.rand() > fraction:\n",
    "        continue\n",
    "    color = np.random.rand(3,)\n",
    "    for j in range(2):\n",
    "        ub = ub_all[j]\n",
    "        nums = np.array([int(x) for x in ub['dirs']])\n",
    "        energies = np.array(ub['energies'])\n",
    "        energies = energies - min(energies)\n",
    "        plt.plot(nums/10000, energies, c=color, label=label)\n",
    "        label=None\n",
    "plt.xlabel('Reaction Coordinate (arb. u.)')\n",
    "plt.ylabel('Energy (eV)')\n",
    "plt.legend()\n",
    "savefig('ub')"
   ],
   "metadata": {
    "collapsed": false,
    "pycharm": {
     "name": "#%% UB Unimodal\n",
     "is_executing": false
    }
   }
  },
  {
   "cell_type": "markdown",
   "source": [
    "Get DOS Information"
   ],
   "metadata": {
    "collapsed": false,
    "pycharm": {
     "name": "#%% md\n"
    }
   }
  },
  {
   "cell_type": "code",
   "execution_count": 16,
   "outputs": [
    {
     "name": "stdout",
     "text": [
      "(1/50) : srgeo3\n",
      "(2/50) : znmno3\n",
      "(3/50) : bacoo3\n",
      "(4/50) : feal2o4\n",
      "(5/50) : srcoo3\n",
      "(6/50) : coga2o4\n",
      "(7/50) : znga2o4\n",
      "(8/50) : vmg2o4\n",
      "(9/50) : pralo3\n",
      "(10/50) : sntao3\n",
      "(11/50) : scalo3\n",
      "(12/50) : mnal2o4\n",
      "(13/50) : mggeo3\n",
      "(14/50) : yalo3\n",
      "(15/50) : laalo3\n",
      "(16/50) : coseo3\n",
      "(17/50) : mgal2o4\n",
      "(18/50) : inalo3\n",
      "(19/50) : gesio3\n",
      "(20/50) : coal2o4\n",
      "(21/50) : cdcr2o4\n",
      "(22/50) : geni2o4\n",
      "(23/50) : znal2o4\n",
      "(24/50) : zncr2o4\n",
      "(25/50) : gefe2o4\n",
      "(26/50) : srtio3\n",
      "    No Explicit TS\n",
      "(27/50) : catio3\n",
      "(28/50) : baceo3\n",
      "(29/50) : latio3\n",
      "(30/50) : batio3\n",
      "(31/50) : lacro3\n",
      "(32/50) : liv2o4\n",
      "(33/50) : cavo3\n",
      "(34/50) : bialo3\n",
      "(35/50) : mgcr2o4\n",
      "(36/50) : femn2o4\n",
      "(37/50) : snhfo3\n",
      "(38/50) : mgseo3\n",
      "(39/50) : bivo3\n",
      "(40/50) : bisbo3\n",
      "(41/50) : cazro3\n",
      "(42/50) : lamno3\n",
      "(43/50) : srvo3\n",
      "(44/50) : bimno3\n",
      "(45/50) : srseo3\n",
      "(46/50) : snnio3\n",
      "(47/50) : laino3\n",
      "(48/50) : cual2o4\n",
      "(49/50) : eucro3\n",
      "(50/50) : zncro3\n",
      "DONE\n",
      "[('laalo3', 1), ('mgal2o4', 2), ('inalo3', 4), ('coal2o4', 3), ('znal2o4', 3), ('srtio3', 3), ('catio3', 3), ('bialo3', 1), ('snhfo3', 3), ('mgseo3', 3)]\n"
     ],
     "output_type": "stream"
    },
    {
     "name": "stderr",
     "text": [
      "D:\\ProgramData\\Miniconda3\\envs\\default\\lib\\site-packages\\pymatgen\\io\\vasp\\outputs.py:907: UserWarning: No POTCAR file with matching TITEL fields was found in C:\\Users\\theme\\AppData\\Local\\Temp\n",
      "  \" was found in {}\".format(os.path.abspath(p)))\n"
     ],
     "output_type": "stream"
    }
   ],
   "source": [
    "import numpy as np\n",
    "import os\n",
    "import Make_Dos\n",
    "from Database_Tools import get_file\n",
    "# vaspruns = {}\n",
    "try:\n",
    "    vaspruns\n",
    "except:\n",
    "    vaspruns = {}\n",
    "\n",
    "# ['CaTiO3' 'SrTiO3' 'LaTiO3' 'BiAlO3' 'MgCr2O4' 'SnHfO3' 'BiVO3' 'FeMn2O4'\n",
    "#  'MgSeO3']\n",
    "# [1 2 6 1 2 3 2 3 3]\n",
    "\n",
    "materials_formated = [\n",
    "#Fast\n",
    "    ('SnTaO3', 2) ,\n",
    "    # ('GeNi2O4', 1),\n",
    "    ('MgAl2O4', 2),\n",
    "    ('InAlO3', 4),\n",
    "    ('CoAl2O4', 3),\n",
    "    ('ZnAl2O4', 3),\n",
    "    ('LaAlO3', 2),\n",
    "#Slow\n",
    "    # ('CaTiO3', \n",
    "    # ('SrTiO3', \n",
    "    # ('LaTiO3', \n",
    "    # ('BiAlO3', \n",
    "    # ('MgCr2O4', \n",
    "    # ('SnHfO3', \n",
    "    # ('MgSeO3', \n",
    "    # # 'FeMn2O4', \n",
    "    # ('BiVO3'\n",
    "]\n",
    "\n",
    "\n",
    "skip = ['gesio3', 'cdcr2o4', 'sntao3', 'znmno3', 'mggeo3', 'geni2o4', 'latio3', 'lacro3', 'bivo3', 'femn2o4',\n",
    "        'zncr2o4', 'gefe2o4', 'baceo3', 'batio3', 'liv2o4','coseo3', 'cazro3']\n",
    "\n",
    "dont_skip = ['mgal2o4', 'inalo3', 'coal2o4', 'znal2o4', 'laalo3', 'bialo3', 'snhfo3', 'srtio3', 'mgseo3', 'catio3',]\n",
    "\n",
    "materials_formated = []\n",
    "materials_formated += zip(under_mat, under_i)\n",
    "materials_formated += zip(over_mat, over_i)\n",
    "\n",
    "\n",
    "\n",
    "materials = [(mat[0].lower(), mat[1]) for mat in materials_formated]\n",
    "# materials = [('bialo3', 1)]\n",
    "\n",
    "# i_list = [2, 1, 2, 4, 3, 3, 2,\n",
    "#           1, 2, 6, 1, 2, 3, 3, 3,2]\n",
    "# \n",
    "# materials = zip(materials, i_list)\n",
    "progress_i = 1\n",
    "for material, i in materials:\n",
    "    print('({}/{}) : {}'.format(progress_i, len(materials), material))\n",
    "    progress_i += 1\n",
    "    if material not in dont_skip:\n",
    "        continue\n",
    "    # vaspruns[material] = {}\n",
    "    for run_type in [ 'charged', 'base', 'start', 'lb', 'ts']:\n",
    "        try:\n",
    "            vaspruns[material][run_type]\n",
    "        except:\n",
    "            try:\n",
    "                vaspruns[material]\n",
    "            except:\n",
    "                vaspruns[material] = {}\n",
    "            if run_type == 'lb':\n",
    "                v_file = get_file(fs, ts_dict[material][run_type][i-1]['vasprun'])\n",
    "            elif run_type == 'charged':\n",
    "                v_file = get_file(All_Charged_Materials.fs, All_Charged_Materials.mat_dict[material]['start']['vasprun'])\n",
    "                # v_file = get_file(All_Charged_Materials.fs, All_Charged_Materials.ts_dict[material]['lb'][i-1]['vasprun'])\n",
    "            elif run_type == 'ts':\n",
    "                # print('getting TS')\n",
    "                f = list(db.database.find({'ts_type' : 'neb_dos' , 'material' : material}))\n",
    "                if len(f) == 0:\n",
    "                    print('    No Explicit TS')\n",
    "                    continue\n",
    "                elif len(f) > 1:\n",
    "                    raise Exception('Too Many TS')\n",
    "                v_file = get_file(fs, f[0]['vasprun'])\n",
    "            else:\n",
    "                v_file = get_file(fs, mat_dict[material][run_type]['vasprun'])\n",
    "            vaspruns[material][run_type] = Vasprun(v_file)\n",
    "            os.remove(v_file)\n",
    "\n",
    "\n",
    "print('DONE')\n",
    "used_mats = [x for x in materials if x[0] in dont_skip]\n",
    "print(used_mats)"
   ],
   "metadata": {
    "collapsed": false,
    "pycharm": {
     "name": "#%%\n",
     "is_executing": false
    }
   }
  },
  {
   "cell_type": "markdown",
   "source": [
    "Vacancy Comparions"
   ],
   "metadata": {
    "collapsed": false,
    "pycharm": {
     "name": "#%% md\n",
     "is_executing": false
    }
   }
  },
  {
   "cell_type": "code",
   "execution_count": 17,
   "outputs": [
    {
     "name": "stdout",
     "text": [
      "['SrGeO3' 'ZnMnO3' 'BaCoO3' 'FeAl2O4' 'SrCoO3' 'CoGa2O4' 'ZnGa2O4'\n",
      " 'VMg2O4' 'PrAlO3' 'SnTaO3' 'ScAlO3' 'MnAl2O4' 'MgGeO3' 'YAlO3' 'LaAlO3'\n",
      " 'CoSeO3' 'MgAl2O4' 'InAlO3' 'GeSiO3' 'CoAl2O4' 'CdCr2O4' 'GeNi2O4'\n",
      " 'ZnAl2O4' 'ZnCr2O4' 'GeFe2O4']\n",
      "['SrTiO3' 'CaTiO3' 'BaCeO3' 'LaTiO3' 'BaTiO3' 'LaCrO3' 'LiV2O4' 'CaVO3'\n",
      " 'BiAlO3' 'MgCr2O4' 'FeMn2O4' 'SnHfO3' 'MgSeO3' 'BiVO3' 'BiSbO3' 'CaZrO3'\n",
      " 'LaMnO3' 'SrVO3' 'BiMnO3' 'SrSeO3' 'SnNiO3' 'LaInO3' 'CuAl2O4' 'EuCrO3'\n",
      " 'ZnCrO3']\n"
     ],
     "output_type": "stream"
    },
    {
     "data": {
      "text/plain": "<Figure size 432x216 with 10 Axes>",
      "image/png": "[encoded data removed]"
     },
     "metadata": {
      "needs_background": "light"
     },
     "output_type": "display_data"
    }
   ],
   "source": [
    "print(under_mat)\n",
    "print(over_mat)\n",
    "def get_run(name, prettyname, shifts = (0,0,0,0)):\n",
    "    return (\n",
    "        (vaspruns[name]['base'], vaspruns[name]['start'], vaspruns[name]['charged'], vaspruns[name]['lb']),\n",
    "        shifts,\n",
    "        prettyname\n",
    "    )\n",
    "\n",
    "plots = [\n",
    "    # get_run('sntao3', 'SnTaO$_3$'),\n",
    "    # get_run('znmno3', 'ZnMnO$_3$'),\n",
    "    # get_run('mggeo3', 'MgGeO$_3$'),\n",
    "    # get_run('geni2o4', 'GeNi$_2$O$_4$'),\n",
    "    get_run('mgal2o4', 'MgAl$_2$O$_4$'),\n",
    "    get_run('inalo3', 'InAlO$_3$'),\n",
    "    get_run('coal2o4', 'CoAl$_2$O$_4$', (0, 0.2, 0, 0.2)),\n",
    "    get_run('znal2o4', 'ZnAl$_2$O$_4$', (0, 0, 0, -0.2)),\n",
    "    get_run('laalo3', 'LaAlO$_3$'),\n",
    "    \n",
    "    get_run('bialo3', 'BiAlO$_3$', (0,0,0,0.25)),\n",
    "    get_run('snhfo3', 'SnHfO$_3$'),\n",
    "    \n",
    "    get_run('catio3', 'CaTiO$_3$'),\n",
    "    get_run('srtio3', 'SrTiO$_3$'),\n",
    "    # get_run('latio3', 'LaTiO$_3$'),\n",
    "    # get_run('lacro3', 'LaCrO$_3$'),\n",
    "    # get_run('bivo3', 'BiVO$_3$'),\n",
    "    # get_run('femn2o4', 'FeMn$_2$O$_4$'),\n",
    "    get_run('mgseo3', 'MgSeO$_3$'),\n",
    "]\n",
    "\n",
    "labels = ['Defect Free', 'O$_{Vac}$', 'O$_{Vac}^{+2}$', 'TS']\n",
    "\n",
    "'CaTiO3', 'SrTiO3', 'LaTiO3', 'BiAlO3', 'MgCr2O4', 'SnHfO3',\n",
    "\n",
    "\n",
    "import Make_Dos\n",
    "from scipy import interpolate\n",
    "# from scipy.interpolate import splrep as spline\n",
    "comps=False\n",
    "amr=False\n",
    "if comps:\n",
    "    figsize = (2,3.5)\n",
    "    ylim = [0,3]\n",
    "    xlim = [-1,5]\n",
    "elif amr:\n",
    "    figsize = (0.8,1.5)\n",
    "    ylim = [0,0.5]\n",
    "    xlim = [-1,5]\n",
    "    plt.subplots(figsize=figsize)\n",
    "    plt.subplots_adjust(wspace=0.3, hspace=0.3)\n",
    "    \n",
    "else:\n",
    "    figsize=(6,3)\n",
    "    ylim = [0,0.5]\n",
    "    xlim = [-1,5]\n",
    "    fig, ax = plt.subplots(figsize=figsize)\n",
    "    # ax = fig.add_subplot(111)\n",
    "    plt.subplots_adjust(wspace=0.3, hspace=0.3)\n",
    "\n",
    "\n",
    "    #vasprun shift name\n",
    "\n",
    "def darken_color(color, amount=0.5):\n",
    "    \"\"\"\n",
    "    Lightens the given color by multiplying (1-luminosity) by the given amount.\n",
    "    Input can be matplotlib color string, hex string, or RGB tuple.\n",
    "\n",
    "    Examples:\n",
    "    >> lighten_color('g', 0.3)\n",
    "    >> lighten_color('#F034A3', 0.6)\n",
    "    >> lighten_color((.3,.55,.1), 0.5)\n",
    "    \"\"\"\n",
    "    import matplotlib.colors as mc\n",
    "    import colorsys\n",
    "    try:\n",
    "        c = mc.cnames[color]\n",
    "    except:\n",
    "        c = color\n",
    "    c = colorsys.rgb_to_hls(*mc.to_rgb(c))\n",
    "    return colorsys.hls_to_rgb(c[0], 1 - amount * (1 - c[1]), c[2])\n",
    "font = {'family' : 'Arial'}\n",
    "title_font = copy.deepcopy(font)\n",
    "title_font['size'] = 10\n",
    "\n",
    "plot_efermi = True\n",
    "label_font = copy.deepcopy(font)\n",
    "label_font['size'] = 12\n",
    "points = 1000\n",
    "colors = ['black', 'blue', 'green', 'red']\n",
    "linestyles = ['-', '-', '--', '--', '-.', ':']\n",
    "# if not plot_efermi:\n",
    "    # colors = ['#7570b3','#1b9e77','#d95f02','#e7298a','#66a61e','#e6ab02','#a6761d','#666666']#\n",
    "    #1b9e77\n",
    "colors = ['k', '#004D40', '#FFC107', '#D81B60', '#1E88E5']\n",
    "colors = ['k', '#004D40', '#ff7c43', '#D81B60', '#1E88E5']\n",
    "colors = ['k', '#1b9e77', '#ff7c43', '#D81B60', '#1E88E5']\n",
    "linestyles = ['-', '-.', '--', ':', '-.', ':']\n",
    "maximum = 2\n",
    "verbose = False\n",
    "subplot_i=0\n",
    "subplot_label = 'a'\n",
    "for vs, shifts, name in plots:\n",
    "    if verbose:\n",
    "        print(name)\n",
    "    if comps:\n",
    "        subplot_i += 1\n",
    "        fig, ax = plt.subplots(figsize=figsize)\n",
    "        delta = 0.5\n",
    "        cond_delta = 0\n",
    "        xlim = [0-delta, vs[0].get_band_structure().get_band_gap()['energy']+delta+cond_delta]\n",
    "        if name == 'CoAl$_2$O$_4$':\n",
    "            xlim[1] = 3\n",
    "    elif amr:\n",
    "        xlim = [-5, 10]\n",
    "        xlim = [-3, 3]\n",
    "        fig, ax = plt.subplots(figsize=figsize)\n",
    "        delta = 0\n",
    "        cond_delta = 0\n",
    "        xlim = [0-delta, vs[0].get_band_structure().get_band_gap()['energy']+delta+cond_delta]\n",
    "        if name == 'CoAl$_2$O$_4$':\n",
    "            xlim[1] = 3\n",
    "    else:\n",
    "        subplot_i += 1\n",
    "        ax = plt.subplot(2,5,subplot_i)\n",
    "        delta = 0\n",
    "        cond_delta = 0\n",
    "        xlim = [0-delta, vs[0].get_band_structure().get_band_gap()['energy']+delta+cond_delta]\n",
    "        if name == 'CoAl$_2$O$_4$':\n",
    "            xlim[1] = 3\n",
    "        # xlim = [-1, 5]\n",
    "    # fig.patch.set_facecolor('white')\n",
    "    # for i in range(len(vs)-1, -1, -1):\n",
    "    for i in [3,1,2]:\n",
    "        vasprun = vs[i]\n",
    "        shift = shifts[i]\n",
    "        color = colors[i]\n",
    "        linestyle=linestyles[i]\n",
    "        if comps:\n",
    "            subplot_i += 1\n",
    "            fig, ax = plt.subplots(figsize=figsize)\n",
    "            delta = 0.5\n",
    "            cond_delta = 0\n",
    "            xlim = [0-delta, vs[0].get_band_structure().get_band_gap()['energy']+delta+cond_delta]\n",
    "            if name == 'CoAl$_2$O$_4$':\n",
    "                xlim[1] = 3\n",
    "        #     if i == 2 or i==0:\n",
    "        #         continue\n",
    "    # for vasprun, shift in zip(vaspruns, shifts):\n",
    "        (title, columns, scaling_factors) = Make_Dos.make_dos(vasprun, ['O'])\n",
    "        for j in range(1,maximum,2):\n",
    "            efermi = shift + (vasprun.efermi - vs[0].efermi)\n",
    "            \n",
    "            dos = np.array(columns[j]) - np.array(columns[j+1])\n",
    "            energy = np.array(columns[0])+efermi\n",
    "            energy_new = np.linspace(energy.min(), energy.max(), points)\n",
    "            \n",
    "            tck = interpolate.splrep(energy, dos)\n",
    "            dos_new = interpolate.splev(energy_new, tck, der=0)\n",
    "            ax.plot(dos_new, energy_new, color=color, linestyle=linestyle)\n",
    "            where = energy_new<efermi\n",
    "            ax.fill_betweenx(energy_new, dos_new, where=where, color=color, alpha=0.5)\n",
    "    \n",
    "            # ax.plot(ylim, [efermi, efermi], color=color, linestyle=':', label=labels[i])\n",
    "            if plot_efermi:\n",
    "                ax.plot(ylim, [efermi, efermi], color=darken_color(color,1.05), linestyle='-')\n",
    "            if verbose:\n",
    "                print('{} {}'.format(labels[i], efermi))\n",
    "            if comps:\n",
    "                ax.set_ylim(xlim)\n",
    "                ax.set_xlim(ylim)\n",
    "                savefig('{}_{}_{}'.format('dos', name, i))\n",
    "                \n",
    "    if not comps and not amr:\n",
    "        plt.text(0.75, 0.1, '({})'.format(subplot_label),transform=ax.transAxes)\n",
    "        subplot_label = chr(ord(subplot_label)+1)\n",
    "   \n",
    "\n",
    "    # Configure Axis\n",
    "    label_font = copy.deepcopy(font)\n",
    "    label_font['size'] = 14\n",
    "\n",
    "    ax.set_ylim(xlim)\n",
    "    ax.set_xlim(ylim)\n",
    "    if not amr:\n",
    "        ax.set_title(name, fontdict=title_font)\n",
    "    ax.set_xticks([])\n",
    "    # ax.set_yticks([])\n",
    "    ax.yaxis.set_ticks_position('left')\n",
    "    # ax.set_xlabel('DOS (arb. u.)', fontdict=label_font)\n",
    "    # ax.set_ylabel('Energy (eV)', fontdict=label_font)\n",
    "\n",
    "    ax.spines['top'].set_visible(False)\n",
    "    ax.spines['bottom'].set_visible(False)\n",
    "    ax.spines['right'].set_visible(False)\n",
    "    handles, labels = ax.get_legend_handles_labels()\n",
    "    # if not comps and not amr:\n",
    "    # ax.legend(handles[::-1], labels[::-1], facecolor='white', framealpha=1)\n",
    "    #     ax.legend(framealpha=1)\n",
    "    \n",
    "    if amr:\n",
    "        savefig('{}_dos'.format(name))\n",
    "        # print('{} {} {}'.format(vaspruns[0].get_band_structure().get_band_gap()['energy'], efermi2, efermi3))\n",
    "        plt.show()\n",
    "fig.text(0.5, 0.04, 'Density of States (arb. u.)', ha='center', fontdict=label_font)\n",
    "fig.text(0.04, 0.5, 'Energy (E-E$_{VBM}$) (eV)', va='center', rotation='vertical', fontdict=label_font)\n",
    "from matplotlib.lines import Line2D\n",
    "legend_elements = [\n",
    "    Line2D([0], [0], color=colors[1], linestyle=linestyles[1], label='O Vacancy'),\n",
    "    Line2D([0], [0], color=colors[3], linestyle=linestyles[3], label='Lower Bound State'),\n",
    "    Line2D([0], [0], color=colors[2], linestyle=linestyles[2], label='Charged O Vacancy'),\n",
    "    ]\n",
    "if plot_efermi:\n",
    "    legend_elements += [Line2D([0], [0], color='k', linestyle='-', label='E$_{Fermi}$'),]\n",
    "# ax = plt.subplot(1,1,1)\n",
    "fig.legend(handles=legend_elements, loc='center left', frameon=False, bbox_to_anchor=(0.9, 0.5))\n",
    "savefig('dos')\n",
    "plt.show()"
   ],
   "metadata": {
    "collapsed": false,
    "pycharm": {
     "name": "#%%\n",
     "is_executing": false
    }
   }
  },
  {
   "cell_type": "markdown",
   "source": [
    "TS Comparison"
   ],
   "metadata": {
    "collapsed": false,
    "pycharm": {
     "name": "#%% md\n"
    }
   }
  },
  {
   "cell_type": "code",
   "execution_count": 18,
   "outputs": [
    {
     "data": {
      "text/plain": "<Figure size 432x216 with 10 Axes>",
      "image/png": "[encoded data removed]"
     },
     "metadata": {
      "needs_background": "light"
     },
     "output_type": "display_data"
    }
   ],
   "source": [
    "def get_run(name, prettyname, shifts = (0,0,0,0)):\n",
    "    try:\n",
    "        return (\n",
    "            (vaspruns[name]['base'], vaspruns[name]['lb'], vaspruns[name]['ts']),\n",
    "            shifts,\n",
    "            prettyname\n",
    "        )\n",
    "    except:\n",
    "        return (\n",
    "            (vaspruns[name]['base'], vaspruns[name]['lb'], vaspruns[name]['lb']),\n",
    "            shifts,\n",
    "            prettyname\n",
    "        )\n",
    "\n",
    "plots = [\n",
    "    # get_run('sntao3', 'SnTaO$_3$'),\n",
    "    # get_run('znmno3', 'ZnMnO$_3$'),\n",
    "    # get_run('mggeo3', 'MgGeO$_3$'),\n",
    "    # get_run('geni2o4', 'GeNi$_2$O$_4$'),\n",
    "    get_run('mgal2o4', 'MgAl$_2$O$_4$'),\n",
    "    get_run('inalo3', 'InAlO$_3$', (0,0,0,0)),\n",
    "    get_run('coal2o4', 'CoAl$_2$O$_4$', (0, 0, 0, 0.2)),\n",
    "    get_run('znal2o4', 'ZnAl$_2$O$_4$', (0, 0, 0, -0.2)),\n",
    "    get_run('laalo3', 'LaAlO$_3$'),\n",
    "    \n",
    "    get_run('bialo3', 'BiAlO$_3$', (0,0,0,0.25)),\n",
    "    get_run('snhfo3', 'SnHfO$_3$'),\n",
    "    \n",
    "    get_run('catio3', 'CaTiO$_3$'),\n",
    "    get_run('srtio3', 'SrTiO$_3$'),\n",
    "    # get_run('latio3', 'LaTiO$_3$'),\n",
    "    # get_run('lacro3', 'LaCrO$_3$'),\n",
    "    # get_run('bivo3', 'BiVO$_3$'),\n",
    "    # get_run('femn2o4', 'FeMn$_2$O$_4$'),\n",
    "    get_run('mgseo3', 'MgSeO$_3$'),\n",
    "]\n",
    "\n",
    "\n",
    "# from scipy.interpolate import splrep as spline\n",
    "comps=False\n",
    "amr=False\n",
    "if comps:\n",
    "    figsize = (1.5,5)\n",
    "    ylim = [0,3]\n",
    "    xlim = [-1,5]\n",
    "elif amr:\n",
    "    figsize = (0.8,1.5)\n",
    "    ylim = [0,0.5]\n",
    "    xlim = [-1,5]\n",
    "    plt.subplots(figsize=figsize)\n",
    "    plt.subplots_adjust(wspace=0.3, hspace=0.3)\n",
    "    \n",
    "else:\n",
    "    figsize=(6,3)\n",
    "    ylim = [0,0.5]\n",
    "    xlim = [-1,5]\n",
    "    fig, ax = plt.subplots(figsize=figsize)\n",
    "    # ax = fig.add_subplot(111)\n",
    "    plt.subplots_adjust(wspace=0.3, hspace=0.3)\n",
    "\n",
    "\n",
    "    #vasprun shift name\n",
    "points = 1000\n",
    "colors = ['black', 'blue', 'green', 'red']\n",
    "linestyles = ['-', '-', '--', '--', '-.', ':']\n",
    "# if not plot_efermi:\n",
    "    # colors = ['#7570b3','#1b9e77','#d95f02','#e7298a','#66a61e','#e6ab02','#a6761d','#666666']#\n",
    "# colors = ['k', '#004D40', '#FFC107', '#1E88E5', '#D81B60']\n",
    "colors = ['k', '#004D40', '#ff7c43', '#D81B60', '#1E88E5']\n",
    "colors = ['k', '#D81B60', '#1E88E5', '#004D40', '#ff7c43']\n",
    "linestyles = ['-', ':','--', '-.', '--', ':', '-.', ':']\n",
    "maximum = 2\n",
    "verbose = False\n",
    "subplot_i=0\n",
    "subplot_label = 'a'\n",
    "for vs, shifts, name in plots:\n",
    "    if verbose:\n",
    "        print(name)\n",
    "    if comps:\n",
    "        xlim = [-5, 10]\n",
    "        xlim = [-3, 3]\n",
    "        fig, ax = plt.subplots(figsize=figsize)\n",
    "    elif amr:\n",
    "        xlim = [-5, 10]\n",
    "        xlim = [-3, 3]\n",
    "        fig, ax = plt.subplots(figsize=figsize)\n",
    "        delta = 0\n",
    "        cond_delta = 0\n",
    "        xlim = [0-delta, vs[0].get_band_structure().get_band_gap()['energy']+delta+cond_delta]\n",
    "        if name == 'CoAl$_2$O$_4$':\n",
    "            xlim[1] = 3\n",
    "    else:\n",
    "        subplot_i += 1\n",
    "        ax = plt.subplot(2,5,subplot_i)\n",
    "        delta = 0\n",
    "        cond_delta = 0\n",
    "        xlim = [0-delta, vs[0].get_band_structure().get_band_gap()['energy']+delta+cond_delta]\n",
    "        if name == 'CoAl$_2$O$_4$':\n",
    "            xlim[1] = 3\n",
    "        # xlim = [-1, 5]\n",
    "    # fig.patch.set_facecolor('white')\n",
    "    # for i in range(len(vs)-1, -1, -1):\n",
    "    for i in [2,1]:\n",
    "    #     if i == 2 or i==0:\n",
    "    #         continue\n",
    "        vasprun = vs[i]\n",
    "        shift = shifts[i]\n",
    "        color = colors[i]\n",
    "        linestyle=linestyles[i]\n",
    "    # for vasprun, shift in zip(vaspruns, shifts):\n",
    "        (title, columns, scaling_factors) = Make_Dos.make_dos(vasprun, ['O'])\n",
    "        for j in range(1,maximum,2):\n",
    "            efermi = shift + (vasprun.efermi - vs[0].efermi)\n",
    "            \n",
    "            dos = np.array(columns[j]) - np.array(columns[j+1])\n",
    "            energy = np.array(columns[0])+efermi\n",
    "            energy_new = np.linspace(energy.min(), energy.max(), points)\n",
    "            \n",
    "            tck = interpolate.splrep(energy, dos)\n",
    "            dos_new = interpolate.splev(energy_new, tck, der=0)\n",
    "            ax.plot(dos_new, energy_new, color=color, linestyle=linestyle)\n",
    "            where = energy_new<efermi\n",
    "            # ax.fill_betweenx(energy_new, dos_new, where=where, color=color, alpha=0.5)\n",
    "    \n",
    "            # ax.plot(ylim, [efermi, efermi], color=color, linestyle=':', label=labels[i])\n",
    "            if plot_efermi:\n",
    "                ax.plot(ylim, [efermi, efermi], color=darken_color(color,1.05), linestyle='-')\n",
    "            if verbose:\n",
    "                print('{} {}'.format(labels[i], efermi))\n",
    "    if not comps and not amr:\n",
    "        plt.text(0.75, 0.1, '({})'.format(subplot_label),transform=ax.transAxes)\n",
    "        subplot_label = chr(ord(subplot_label)+1)\n",
    "   \n",
    "\n",
    "    # Configure Axis\n",
    "    label_font = copy.deepcopy(font)\n",
    "    label_font['size'] = 14\n",
    "\n",
    "    ax.set_ylim(xlim)\n",
    "    ax.set_xlim(ylim)\n",
    "    if not amr:\n",
    "        ax.set_title(name, fontdict=title_font)\n",
    "    ax.set_xticks([])\n",
    "    # ax.set_yticks([])\n",
    "    ax.yaxis.set_ticks_position('left')\n",
    "    # ax.set_xlabel('DOS (arb. u.)', fontdict=label_font)\n",
    "    # ax.set_ylabel('Energy (eV)', fontdict=label_font)\n",
    "\n",
    "    ax.spines['top'].set_visible(False)\n",
    "    ax.spines['bottom'].set_visible(False)\n",
    "    ax.spines['right'].set_visible(False)\n",
    "    handles, labels = ax.get_legend_handles_labels()\n",
    "    # if not comps and not amr:\n",
    "    # ax.legend(handles[::-1], labels[::-1], facecolor='white', framealpha=1)\n",
    "    #     ax.legend(framealpha=1)\n",
    "    \n",
    "    if comps or amr:\n",
    "        savefig('{}_ts_dos'.format(name))\n",
    "        # print('{} {} {}'.format(vaspruns[0].get_band_structure().get_band_gap()['energy'], efermi2, efermi3))\n",
    "        plt.show()\n",
    "fig.text(0.5, 0.04, 'Density of States (arb. u.)', ha='center', fontdict=label_font)\n",
    "fig.text(0.04, 0.5, 'Energy (E-E$_{VBM}$) (eV)', va='center', rotation='vertical', fontdict=label_font)\n",
    "from matplotlib.lines import Line2D\n",
    "legend_elements = [\n",
    "    # Line2D([0], [0], color=colors[3], linestyle=linestyles[1], label='O Vacancy'),\n",
    "    Line2D([0], [0], color=colors[1], linestyle=linestyles[1], label='Lower Bound State'),\n",
    "    Line2D([0], [0], color=colors[2], linestyle=linestyles[2], label='Explicit Transition State'),\n",
    "    # Line2D([0], [0], color=colors[2], linestyle=linestyles[2], label='Charged O Vacancy'),\n",
    "    ]\n",
    "if plot_efermi:\n",
    "    legend_elements += [Line2D([0], [0], color='k', linestyle='-', label='E$_{Fermi}$'),]\n",
    "# ax = plt.subplot(1,1,1)\n",
    "fig.legend(handles=legend_elements, loc='center left', frameon=False, bbox_to_anchor=(0.9, 0.5))\n",
    "savefig('dos_ts')\n",
    "plt.show()\n"
   ],
   "metadata": {
    "collapsed": false,
    "pycharm": {
     "name": "#%%\n",
     "is_executing": false
    }
   }
  },
  {
   "cell_type": "markdown",
   "source": [
    "Load Charged\n",
    "\n",
    "Setup Bandgaps"
   ],
   "metadata": {
    "collapsed": false,
    "pycharm": {
     "name": "#%% md\n"
    }
   }
  },
  {
   "cell_type": "code",
   "execution_count": 19,
   "outputs": [],
   "source": [
    "label_list = []\n",
    "lb = []\n",
    "lb0 = []\n",
    "avgs = []\n",
    "avgs0 = []\n",
    "err = []\n",
    "err0 = []\n",
    "minmax = 0.05\n",
    "\n",
    "unit_criteria = {\n",
    "            'defect_type': {'$exists': False},\n",
    "            'ts_type': {'$exists': False},\n",
    "            'material': {'$all': [], '$in': ['spinel', 'perovskite'], '$nin': ['from_zach']},\n",
    "            'labels' : {\n",
    "                '$all' : ['unit_cell'],\n",
    "                '$nin' : ['surface']}\n",
    "        }\n",
    "\n",
    "import All_Charged_Materials\n",
    "for material in All_Charged_Materials.mat_dict.keys():\n",
    "    # for material in ['cual2o4']:\n",
    "    mat = All_Charged_Materials.mat_dict[material]\n",
    "    thermo,  lb_bars,  ub_bars,  delta = get_bars(mat, All_Charged_Materials.ts_dict[material])\n",
    "    thermo0, lb0_bars, ub0_bars, delta = get_bars(mat, All_Charged_Materials.ts_dict[material], suffix='0')\n",
    "    if material == 'bazro3':\n",
    "        pass\n",
    "    # print(lb_bars, lb0_bars)\n",
    "    bars_list = [thermo, lb_bars, ub_bars]\n",
    "\n",
    "    metal_material = ['srcoo3', 'mgcr2o4', 'batao3', 'basno3']\n",
    "\n",
    "    ranges = np.array(ub_bars) - np.array(lb_bars)\n",
    "    ranges = np.array([ x if x > 0 else 0 for x in ranges])\n",
    "    avg = np.array(lb_bars) + ranges/2 #type:np.array\n",
    "    if max(avg) > 0:\n",
    "        if material in metal_material:\n",
    "            label_list.append(material)\n",
    "            ranges0 = np.array(ub0_bars) - np.array(lb0_bars)\n",
    "            ranges0 = np.array([ x if x > 0 else 0 for x in ranges0])\n",
    "            avg0 = np.array(lb0_bars) + ranges0/2\n",
    "            i = list(avg).index(min([ x for x in avg if x > 0 ]))\n",
    "            delta = abs(thermo[0] - thermo[i])\n",
    "            lb.append(lb_bars[i] -delta) \n",
    "            err.append(max(ranges[i], minmax))\n",
    "            i0 = list(avg0).index(min([ x for x in avg0 if x > 0 ]))\n",
    "            lb0.append(lb0_bars[i0])\n",
    "            err0.append(max(ranges0[i0], minmax))\n",
    "            avgs.append(avg[i0])\n",
    "            avgs0.append(avg0[i0])\n",
    "            continue\n",
    "        label_list.append(material)\n",
    "        ranges0 = np.array(ub0_bars) - np.array(lb0_bars)\n",
    "        ranges0 = np.array([ x if x > 0 else 0 for x in ranges0])\n",
    "        avg0 = np.array(lb0_bars) + ranges0/2\n",
    "        i = list(avg).index(min([ x for x in avg if x > 0 ]))\n",
    "        lb.append(lb_bars[i])\n",
    "        err.append(max(ranges[i], minmax))\n",
    "        i0 = list(avg0).index(min([ x for x in avg0 if x > 0 ]))\n",
    "        lb0.append(lb0_bars[i0])\n",
    "        err0.append(max(ranges0[i0], minmax))\n",
    "        avgs.append(avg[i0])\n",
    "        avgs0.append(avg0[i0])\n",
    "    elif min(avg) < 0:\n",
    "        pass\n",
    "        # del mat_dict[material]\n",
    "        # del ts_dict[material]\n",
    "    else:\n",
    "        label_list.append(material)\n",
    "        lb.append(0)\n",
    "        lb0.append(0)\n",
    "        err.append(0)\n",
    "        err0.append(0)"
   ],
   "metadata": {
    "collapsed": false,
    "pycharm": {
     "name": "#%%\n",
     "is_executing": false
    }
   }
  },
  {
   "cell_type": "code",
   "execution_count": 20,
   "outputs": [
    {
     "data": {
      "text/plain": "<Figure size 216x216 with 1 Axes>",
      "image/png": "[encoded data removed]"
     },
     "metadata": {
      "needs_background": "light"
     },
     "output_type": "display_data"
    }
   ],
   "source": [
    "maxrange = 1\n",
    "plt.subplots(figsize=(3,3))\n",
    "x = np.array(lb0) + np.array(err0)/2\n",
    "y = np.array(lb) + np.array(err)/2\n",
    "xerr = np.array(err0)/2\n",
    "yerr = np.array(err)/2\n",
    "\n",
    "x = x[np.where(xerr < maxrange)]\n",
    "y = y[np.where(xerr < maxrange)]\n",
    "yerr = yerr[np.where(xerr < maxrange)]\n",
    "ll = np.array(label_list)[np.where(xerr < maxrange)]\n",
    "\n",
    "xerr = xerr[np.where(xerr < maxrange)]\n",
    "# \n",
    "# \n",
    "# "
   ],
   "metadata": {
    "collapsed": false,
    "pycharm": {
     "name": "#%%\n",
     "is_executing": false
    }
   }
  },
  {
   "cell_type": "code",
   "execution_count": 21,
   "outputs": [
    {
     "name": "stdout",
     "text": [
      "DONE\n"
     ],
     "output_type": "stream"
    }
   ],
   "source": [
    "color = []\n",
    "progress_i = 0\n",
    "for material in ll:\n",
    "    # print('({}/{}) : {}'.format(progress_i, len(ll), material))\n",
    "    progress_i += 1\n",
    "    f=get_file(fs, mat_dict[material]['base']['vasprun'])\n",
    "    vasprun = Vasprun(f)\n",
    "    color.append(vasprun.get_band_structure().get_band_gap()['energy'])\n",
    "    os.remove(f)\n",
    "# color.append(mat_dict[material]['base']['descriptors']['bandgap'])\n",
    "# \n",
    "\n",
    "print('DONE')"
   ],
   "metadata": {
    "collapsed": false,
    "pycharm": {
     "name": "#%%\n",
     "is_executing": false
    }
   }
  },
  {
   "cell_type": "markdown",
   "source": [
    "Charged Plot"
   ],
   "metadata": {
    "collapsed": false,
    "pycharm": {
     "name": "#%% md\n"
    }
   }
  },
  {
   "cell_type": "code",
   "execution_count": 22,
   "outputs": [
    {
     "data": {
      "text/plain": "<Figure size 288x288 with 1 Axes>",
      "image/png": "[encoded data removed]"
     },
     "metadata": {
      "needs_background": "light"
     },
     "output_type": "display_data"
    },
    {
     "name": "stdout",
     "text": [
      "\n",
      "Faster    7\n",
      "Slower    25 \n",
      "Ambiguous 5\n",
      "Undecided 6\n",
      "[]\n",
      "[]\n",
      "[]\n",
      "[]\n"
     ],
     "output_type": "stream"
    }
   ],
   "source": [
    "# #\n",
    "maxbarrier = 5.5\n",
    "if comps:\n",
    "    plt.figure(figsize=[4,4])\n",
    "else:\n",
    "    label_font = copy.deepcopy(font)\n",
    "    label_font['size'] = 14\n",
    "    plt.figure(figsize=[4,4])\n",
    "    \n",
    "plt.plot([0, maxbarrier], [0, maxbarrier], '--', color='gray')\n",
    "# scat = plt.scatter(x, y, c=color, marker='o')\n",
    "# clb = plt.colorbar(label='Band Gap (eV)')\n",
    "# e1, e2, e3 = plt.errorbar(x, y, xerr=xerr, yerr=yerr, fmt='none', color='k')\n",
    "# scat = plt.scatter(x, y, marker='o')\n",
    "# clb = plt.colorbar(scat, label='Band Gap (eV)')\n",
    "# error_color = clb.to_rgba(color)\n",
    "# e3[0].set_color(error_color)\n",
    "# plt.colorbar(scat, label='V$_O$ Energy (eV)')\n",
    "plt.xlabel('Neutral Vacancy Diffusion Barrier (eV)', fontdict=label_font)\n",
    "plt.ylabel('Charged Vacancy Diffusion Barrier (eV)', fontdict=label_font)\n",
    "plt.xlim([0,maxbarrier])\n",
    "plt.ylim([0,maxbarrier])\n",
    "# for i in range(len(ll)):\n",
    "#     plt.text(x[i], y[i], ll[i])\n",
    "\n",
    "faster = 0\n",
    "undecided = 0\n",
    "ambiguous = 0\n",
    "slower = 0\n",
    "up = ['mgal2o4', 'inalo3', 'coal2o4', 'znal2o4', 'laalo3']\n",
    "op = ['catio3', 'srtio3', 'bialo3', 'snhfo3', 'mgseo3']\n",
    "up_e = []\n",
    "up_l = []\n",
    "op_e = []\n",
    "op_l = []\n",
    "error_color = color\n",
    "for xp, yp, xerrp, yerrp, colorp, bg, label in zip(x, y, xerr, yerr, error_color, color, ll):\n",
    "    colorp='k'\n",
    "    if bg > 0 :\n",
    "        pass\n",
    "      # if label in up+op:\n",
    "      #   plt.plot(xp, yp, 'o', color=colorp, markersize=6)\n",
    "      #   plt.errorbar(xp, yp,  xerr=xerrp, yerr=yerrp, lw=1, capsize=3, color=colorp)\n",
    "        # print(xp, yp)\n",
    "        # plt.text(xp, yp, label)\n",
    "        # if label in up:\n",
    "        #     up_e += [yp - xp]\n",
    "        #     up_l += [label]\n",
    "        # \n",
    "        # if label in op:\n",
    "        #     op_e += [yp - xp]\n",
    "        #     op_l += [label]\n",
    "\n",
    "              \n",
    "    else:\n",
    "        continue\n",
    "    if xp + xerrp < yp - yerrp:\n",
    "        faster += 1\n",
    "        colorp = 'red'\n",
    "    elif yp + yerrp < xp - xerrp:\n",
    "        slower += 1\n",
    "        colorp = 'green'\n",
    "    elif xerrp*2 < 0.1 and yerrp*2<0.1:\n",
    "        ambiguous += 1\n",
    "        colorp = 'black'\n",
    "    else:\n",
    "        undecided += 1\n",
    "        colorp = 'blue'\n",
    "    plt.plot(xp, yp, 'o', color=colorp, markersize=6)\n",
    "    \n",
    "savefig('chargedvsneutral')\n",
    "plt.show()\n",
    "\n",
    "print('''\n",
    "Faster    {}\n",
    "Slower    {} \n",
    "Ambiguous {}\n",
    "Undecided {}'''.format(faster, slower, ambiguous, undecided))\n",
    "# print('''\n",
    "# Overpredicted delta: {} \n",
    "# Underprdicted delta: {}'''.format(sum(op_e)/len(op_e), sum(up_e)/len(up_e)))\n",
    "print(op_e)\n",
    "print(op_l)\n",
    "print(up_e)\n",
    "print(up_l)"
   ],
   "metadata": {
    "collapsed": false,
    "pycharm": {
     "name": "#%%\n",
     "is_executing": false
    }
   }
  },
  {
   "cell_type": "code",
   "execution_count": 23,
   "outputs": [],
   "source": [
    "# # figsize = (10,5)\n",
    "# # font = {\n",
    "# #     'family' : 'Arial',\n",
    "# #     'size' : 12,\n",
    "# # }\n",
    "# # label_font = copy.deepcopy(font)\n",
    "# # label_font['size'] = 14\n",
    "# # \n",
    "# # tick_font = copy.deepcopy(font)\n",
    "# # tick_font['size'] = 9\n",
    "# # labels = {\n",
    "# #     'bacoo3' : 'BaCoO$_3$',\n",
    "# #     'bafeo3' : 'BaFeO$_3$'\n",
    "# # }\n",
    "# # def make_plot(bars_list, bottoms, legend=[], colors=['k', 'r', 'b'], ylim=None, ylabel='',label_list=label_list):\n",
    "# #     width = .15 / len(bars_list)\n",
    "# #     x = np.arange(len(bars_list[0]))\n",
    "# #     fig, ax = plt.subplots(figsize=figsize)\n",
    "# #     fig.patch.set_facecolor('white')\n",
    "# #     \n",
    "# #     for i, bars in enumerate(bars_list):\n",
    "# #         rects = plt.errorbar(x + i * width, bars, color=colors[i], label=legend[i], yerr=np.array(bottoms[i])/2,\n",
    "# #                              fmt='o', markersize=0, linewidth=10)\n",
    "# #     lables = ax.set_xticklabels([ labels[x] if x in labels else x for x in label_list], fontdict=tick_font)\n",
    "# #     ax.set_ylabel(ylabel, fontdict=label_font)\n",
    "# #     \n",
    "# #     ticks = ax.set_xticks(x + width * (len(bars_list)-1) / 2)\n",
    "# #     # ticks = ax.set_xticks(x)\n",
    "# #     if ylim:\n",
    "# #         ax.set_ylim(ylim)\n",
    "# #     plt.show()\n",
    "# # \n",
    "# # make_plot([lb, lb0], [err, err0], legend=['+2', '0'])\n",
    "# "
   ],
   "metadata": {
    "collapsed": false,
    "pycharm": {
     "name": "#%%\n",
     "is_executing": false
    }
   }
  },
  {
   "cell_type": "code",
   "execution_count": 24,
   "outputs": [],
   "source": [
    "# # figsize = (10,5)\n",
    "# # font = {\n",
    "# #     'family' : 'Arial',\n",
    "# #     'size' : 12,\n",
    "# # }\n",
    "# # label_font = copy.deepcopy(font)\n",
    "# # label_font['size'] = 14\n",
    "# # \n",
    "# # tick_font = copy.deepcopy(font)\n",
    "# # tick_font['size'] = 9\n",
    "# # labels = {\n",
    "# #     'bacoo3' : 'BaCoO$_3$',\n",
    "# #     'bafeo3' : 'BaFeO$_3$'\n",
    "# # }\n",
    "# # def make_plot(bars_list, bottoms, legend=[], colors=['k', 'r', 'b'], ylim=None, ylabel='',label_list=label_list):\n",
    "# #     width = .15 / len(bars_list)\n",
    "# #     x = np.arange(len(bars_list[0]))\n",
    "# #     fig, ax = plt.subplots(figsize=figsize)\n",
    "# #     fig.patch.set_facecolor('white')\n",
    "# #     \n",
    "# #     for i, bars in enumerate(bars_list):\n",
    "# #         rects = plt.errorbar(x + i * width, bars, color=colors[i], label=legend[i], yerr=np.array(bottoms[i])/2,\n",
    "# #                              fmt='o', markersize=0, linewidth=10)\n",
    "# #     lables = ax.set_xticklabels([ labels[x] if x in labels else x for x in label_list], fontdict=tick_font)\n",
    "# #     ax.set_ylabel(ylabel, fontdict=label_font)\n",
    "# #     \n",
    "# #     ticks = ax.set_xticks(x + width * (len(bars_list)-1) / 2)\n",
    "# #     # ticks = ax.set_xticks(x)\n",
    "# #     if ylim:\n",
    "# #         ax.set_ylim(ylim)\n",
    "# #     plt.show()\n",
    "# # \n",
    "# # make_plot([lb, lb0], [err, err0], legend=['+2', '0'])\n",
    "# "
   ],
   "metadata": {
    "collapsed": false,
    "pycharm": {
     "name": "#%%\n",
     "is_executing": false
    }
   }
  },
  {
   "cell_type": "code",
   "execution_count": 25,
   "outputs": [],
   "source": [
    "# # figsize = (10,5)\n",
    "# # font = {\n",
    "# #     'family' : 'Arial',\n",
    "# #     'size' : 12,\n",
    "# # }\n",
    "# # label_font = copy.deepcopy(font)\n",
    "# # label_font['size'] = 14\n",
    "# # \n",
    "# # tick_font = copy.deepcopy(font)\n",
    "# # tick_font['size'] = 9\n",
    "# # labels = {\n",
    "# #     'bacoo3' : 'BaCoO$_3$',\n",
    "# #     'bafeo3' : 'BaFeO$_3$'\n",
    "# # }\n",
    "# # def make_plot(bars_list, bottoms, legend=[], colors=['k', 'r', 'b'], ylim=None, ylabel='',label_list=label_list):\n",
    "# #     width = .15 / len(bars_list)\n",
    "# #     x = np.arange(len(bars_list[0]))\n",
    "# #     fig, ax = plt.subplots(figsize=figsize)\n",
    "# #     fig.patch.set_facecolor('white')\n",
    "# #     \n",
    "# #     for i, bars in enumerate(bars_list):\n",
    "# #         rects = plt.errorbar(x + i * width, bars, color=colors[i], label=legend[i], yerr=np.array(bottoms[i])/2,\n",
    "# #                              fmt='o', markersize=0, linewidth=10)\n",
    "# #     lables = ax.set_xticklabels([ labels[x] if x in labels else x for x in label_list], fontdict=tick_font)\n",
    "# #     ax.set_ylabel(ylabel, fontdict=label_font)\n",
    "# #     \n",
    "# #     ticks = ax.set_xticks(x + width * (len(bars_list)-1) / 2)\n",
    "# #     # ticks = ax.set_xticks(x)\n",
    "# #     if ylim:\n",
    "# #         ax.set_ylim(ylim)\n",
    "# #     plt.show()\n",
    "# # \n",
    "# # make_plot([lb, lb0], [err, err0], legend=['+2', '0'])\n",
    "# \n"
   ],
   "metadata": {
    "collapsed": false,
    "pycharm": {
     "name": "#%%\n",
     "is_executing": false
    }
   }
  },
  {
   "cell_type": "markdown",
   "source": [
    "Bader"
   ],
   "metadata": {
    "collapsed": false
   }
  },
  {
   "cell_type": "code",
   "execution_count": 26,
   "outputs": [],
   "source": [
    "# from File_Management import get_bader\n",
    "# delta = 0.01\n",
    "# \n",
    "# \n",
    "# for m in ['nasbo3']:\n",
    "#     base_out_f = get_file(fs, mat_dict[m]['base']['outcar'])\n",
    "#     base_out = Outcar(base_out_f)\n",
    "#     base_charge = base_out.charge\n",
    "#     base_s = Poscar.from_dict(mat_dict[m]['base']['poscar']).structure\n",
    "#     os.remove(base_out_f)\n",
    "#     \n",
    "#     start_out_f = get_file(fs, mat_dict[m]['start']['outcar'])\n",
    "#     start_out = Outcar(start_out_f)\n",
    "#     start_charge = start_out.charge\n",
    "#     os.remove(start_out_f)\n",
    "#     start_s = Poscar.from_dict(mat_dict[m]['start']['poscar']).structure\n",
    "#     \n",
    "#     base_charges = {}\n",
    "#     for i in range(len(base_s)):\n",
    "#         a = base_s[i]\n",
    "#         c = base_charge[i]['tot']\n",
    "#         if a.specie in base_charges:\n",
    "#             base_charges[a.specie] = (base_charges[a.specie][0]+c, base_charges[a.specie][1]+1)\n",
    "#         else:\n",
    "#             base_charges[a.specie] = (c, 1)\n",
    "#     base_charges = { k: base_charges[k][0] / base_charges[k][1] for k in base_charges}\n",
    "#     \n",
    "#     for i in range(len(base_s)):\n",
    "#         a = base_s[i]\n",
    "#         c = base_charge[i]['tot']\n",
    "#         if abs(base_charges[a.specie] - c) > delta:\n",
    "#             raise Exception('Large Deviations')\n",
    "#         \n",
    "#     \n",
    "#     for i in range(len(start_s)):\n",
    "#         a = start_s[i]\n",
    "#         c = start_charge[i]['tot']\n",
    "#         deviation = base_charges[a.specie] - c\n",
    "#         if abs(deviation) > delta:\n",
    "#             print('Deviation of {} for {} {} in {}'.format(deviation, a.specie, i, m))\n",
    "\n",
    "# class BaderAtomNumber:\n",
    "# \n",
    "#     def __init__(self, d):\n",
    "#         self.dict = d\n",
    "# \n",
    "#     default_charges = {\n",
    "#         'Fe': 14,\n",
    "#         'Al': 3,\n",
    "#         'O': 6\n",
    "#     }\n",
    "# \n",
    "#     def convert_dict(self, d, i):\n",
    "#         return d['bader_acf']['charge'][i]\n",
    "# \n",
    "#     def atom_number(self, description):\n",
    "#         \"\"\"\n",
    "# \n",
    "#         :param description: Hercynite environment description\n",
    "#         :return: int based on description or default as provided during initialization\n",
    "#         \"\"\"\n",
    "#         if description in self.dict:\n",
    "#             return self.dict[description]\n",
    "#         else:\n",
    "#             return self.dict['default']\n",
    "# \n",
    "#     def charge(self, acf, structure: Structure, description):\n",
    "#         charges = []\n",
    "#         atom_numbers = self.atom_number(description)\n",
    "#         if type(atom_numbers) == int:\n",
    "#             atom_numbers = [atom_numbers]\n",
    "# \n",
    "#         for atom_number in atom_numbers:\n",
    "#             charges.append(self.default_charges[structure[atom_number].specie.name] - float(self.convert_dict(acf, atom_number)))\n",
    "#         return charges\n",
    "# \n",
    "#     def charge_by_element(self, acf, structure: Structure, element):\n",
    "#         charges = []\n",
    "#         for i, a in enumerate(structure):\n",
    "#             if a.specie == element:\n",
    "#                 charges.append(self.default_charges[a.specie.name] - float(self.convert_dict(acf, i)))\n",
    "#         return charges\n",
    "# \n",
    "#     def charge_by_element_generator(self, element):\n",
    "#         def consistent_args(acf, structure, description):\n",
    "#             return self.charge_by_element(acf, structure, element)\n",
    "#         return consistent_args\n"
   ],
   "metadata": {
    "collapsed": false,
    "pycharm": {
     "name": "#%%\n",
     "is_executing": false
    }
   }
  },
  {
   "cell_type": "markdown",
   "source": [
    "Random Plotting"
   ],
   "metadata": {
    "collapsed": false,
    "pycharm": {
     "name": "#%% md\n",
     "is_executing": false
    }
   }
  },
  {
   "cell_type": "code",
   "execution_count": 27,
   "outputs": [
    {
     "data": {
      "text/plain": "<Figure size 432x288 with 1 Axes>",
      "image/png": "[encoded data removed]"
     },
     "metadata": {
      "needs_background": "light"
     },
     "output_type": "display_data"
    }
   ],
   "source": [
    "\n",
    "import scipy\n",
    "cutoff = 5\n",
    "min_cutoff = -100\n",
    "\n",
    "\n",
    "x=np.array(csv_dict.get_column('ovac_final'))\n",
    "y=np.array(csv_dict.get_column('lb'))/2+np.array(csv_dict.get_column('ub'))/2\n",
    "x=x[np.where(y<cutoff)]\n",
    "y=y[np.where(y<cutoff)]\n",
    "linreg = scipy.stats.linregress(x, y)\n",
    "prediction = linreg.intercept + linreg.slope * np.array(csv_dict.get_column('ovac_final'))\n",
    "\n",
    "\n",
    "x=np.array(csv_dict.get_column('ts_efermi'))-np.array(csv_dict.get_column('efermi'))\n",
    "# x= abs(x)\n",
    "y=np.array(csv_dict.get_column('lb'))/2+np.array(csv_dict.get_column('ub'))/2\n",
    "s=abs(np.array(csv_dict.get_column('ub'))-np.array(csv_dict.get_column('lb')))*500\n",
    "marker='|'\n",
    "plt.xlabel('E$_{fermi}$ Shift (eV)')\n",
    "plt.ylabel('Diffusion Barrier (eV)')\n",
    "plt.show()\n",
    "\n",
    "# x=abs(np.array(csv_dict.get_column('formation_energy'))) + \\\n",
    "#   0.6*(np.array((csv_dict.get_column('o_p_band_center')) + 1.5/2*np.array(csv_dict.get_column('band_gap')))) + \\\n",
    "#   2.6*np.array(csv_dict.get_column('pauling_diff'))\n",
    "\n",
    "# plt.ylabel('V$_{O}$ Energy (eV)')\n",
    "# plt.xlabel('Deml')\n",
    "\n",
    "# plt.ylabel('E$_{fermi}$ Shift (eV)')\n",
    "# plt.xlabel('Band Gap (eV)')\n",
    "#\n",
    "# color=np.array(csv_dict.get_column('band_gap'))\n",
    "\n",
    "# Band Gap\n",
    "# np.array(csv_dict.get_column('band_gap'))\n",
    "\n",
    "# Ovac\n",
    "# np.array(csv_dict.get_column('ovac_final'))\n",
    "\n",
    "# TS\n",
    "# np.array(csv_dict.get_column('lb'))/2+np.array(csv_dict.get_column('ub'))/2\n",
    "# prediction - ( np.array(csv_dict.get_column('lb'))/2+np.array(csv_dict.get_column('ub'))/2 )\n",
    "\n",
    "# Fermi Shift\n",
    "# np.array(csv_dict.get_column('ts_efermi'))-np.array(csv_dict.get_column('efermi'))\n",
    "# np.array(csv_dict.get_column('efermi_vac'))-np.array(csv_dict.get_column('efermi'))\n",
    "# np.array(csv_dict.get_column('ts_efermi'))-np.array(csv_dict.get_column('efermi_vac'))"
   ],
   "metadata": {
    "collapsed": false,
    "pycharm": {
     "name": "#%%\n",
     "is_executing": false
    }
   }
  },
  {
   "cell_type": "code",
   "execution_count": 28,
   "outputs": [
    {
     "data": {
      "text/plain": "<Figure size 432x288 with 2 Axes>",
      "image/png": "[encoded data removed]"
     },
     "metadata": {
      "needs_background": "light"
     },
     "output_type": "display_data"
    },
    {
     "data": {
      "text/plain": "<Figure size 216x216 with 0 Axes>"
     },
     "metadata": {},
     "output_type": "display_data"
    },
    {
     "name": "stdout",
     "text": [
      "LinregressResult(slope=-0.4992271264900983, intercept=0.12333142853735568, rvalue=-0.44865461901084336, pvalue=2.3642558480831786e-05, stderr=0.11118221881136096)\n"
     ],
     "output_type": "stream"
    }
   ],
   "source": [
    "x=np.array(csv_dict.get_column('ts_efermi'))-np.array(csv_dict.get_column('efermi_vac'))\n",
    "y= prediction - ( np.array(csv_dict.get_column('lb'))/2+np.array(csv_dict.get_column('ub'))/2 )\n",
    "color=np.array(csv_dict.get_column('band_gap'))\n",
    "s=abs(np.array(csv_dict.get_column('ub'))-np.array(csv_dict.get_column('lb')))*500\n",
    "\n",
    "cutoff = 5\n",
    "min_cutoff = -5\n",
    "s=s[np.where(y<cutoff)]\n",
    "x=x[np.where(y<cutoff)]\n",
    "color=color[np.where(y<cutoff)]\n",
    "y=y[np.where(y<cutoff)]\n",
    "\n",
    "s=s[np.where(y>min_cutoff)]\n",
    "x=x[np.where(y>min_cutoff)]\n",
    "color=color[np.where(y>min_cutoff)]\n",
    "y=y[np.where(y>min_cutoff)]\n",
    "\n",
    "color_cutoff = 0.5\n",
    "s=s[np.where(color>color_cutoff)]\n",
    "x=x[np.where(color>color_cutoff)]\n",
    "y=y[np.where(color>color_cutoff)]\n",
    "color=color[np.where(color>color_cutoff)]\n",
    "\n",
    "s=5\n",
    "\n",
    "z = np.polyfit(x, y, 1)\n",
    "p = np.poly1d(z)\n",
    "scat = plt.scatter(x, y, c=color, s=s, cmap='plasma', marker=marker)\n",
    "plt.colorbar(scat, label='V$_O$ Energy (eV)')\n",
    "plt.plot([min(x), max(x)], [p(min(x)), p(max(x))], \"--\", color='k')\n",
    "plt.figure(figsize=(3,3))\n",
    "plt.show()\n",
    "print(scipy.stats.linregress(x, y))\n",
    "# for property in csv_dict.get_header()[6:]:\n",
    "#     y = prediction - (np.array(csv_dict.get_column('lb')) / 2 + np.array(csv_dict.get_column('ub')) / 2)\n",
    "#     x = np.array(csv_dict.get_column(property))\n",
    "#     x=x[np.where(y>min_cutoff)]\n",
    "#     y=y[np.where(y>min_cutoff)]\n",
    "#     linreg = scipy.stats.linregress(x, y)\n",
    "#\n",
    "#     print(property)\n",
    "#     print(linreg.rvalue)"
   ],
   "metadata": {
    "collapsed": false,
    "pycharm": {
     "name": "#%%\n",
     "is_executing": false
    }
   }
  },
  {
   "cell_type": "code",
   "execution_count": 29,
   "outputs": [
    {
     "data": {
      "text/plain": "<Figure size 288x288 with 1 Axes>",
      "image/png": "[encoded data removed]"
     },
     "metadata": {
      "needs_background": "light"
     },
     "output_type": "display_data"
    },
    {
     "name": "stdout",
     "text": [
      "LinregressResult(slope=0.44703810590367143, intercept=-1.7774351036074827, rvalue=0.6274713279158494, pvalue=6.090681125625573e-12, stderr=0.05691482190727916)\n"
     ],
     "output_type": "stream"
    }
   ],
   "source": [
    "plt.figure(figsize=(4,4))\n",
    "x=np.array(csv_dict.get_column('ovac'))\n",
    "y=np.array(csv_dict.get_column('band_gap'))\n",
    "plt.xlabel('V$_O$ Formation Energy (eV)')\n",
    "plt.ylabel('Band Gap (eV)')\n",
    "# y= prediction - ( np.array(csv_dict.get_column('lb'))/2+np.array(csv_dict.get_column('ub'))/2 )\n",
    "\n",
    "z = np.polyfit(x, y, 1)\n",
    "p = np.poly1d(z)\n",
    "scat = plt.scatter(x, y)\n",
    "plt.plot([min(x), max(x)], [p(min(x)), p(max(x))], \"--\", color='k')\n",
    "savefig('bg_vs_vo')\n",
    "print(scipy.stats.linregress(x, y))\n"
   ],
   "metadata": {
    "collapsed": false,
    "pycharm": {
     "name": "#%%\n",
     "is_executing": false
    }
   }
  },
  {
   "cell_type": "code",
   "execution_count": 30,
   "outputs": [
    {
     "data": {
      "text/plain": "<Figure size 288x288 with 1 Axes>",
      "image/png": "[encoded data removed]"
     },
     "metadata": {
      "needs_background": "light"
     },
     "output_type": "display_data"
    },
    {
     "name": "stdout",
     "text": [
      "LinregressResult(slope=-0.12522231441931303, intercept=8.649240344688193, rvalue=-0.09953117307992634, pvalue=0.33206059658110276, stderr=0.1284395915145879)\n"
     ],
     "output_type": "stream"
    }
   ],
   "source": [
    "from scipy.optimize import curve_fit\n",
    "\n",
    "plt.figure(figsize=(4,4))\n",
    "x=np.array(csv_dict.get_column('formation_energy'))+0.6*(-(np.array(csv_dict.get_column('o_p_band_center')))+1.5/2*np.array(csv_dict.get_column('band_gap')))+2.6*np.array(csv_dict.get_column('pauling_diff'))\n",
    "x=np.array(csv_dict.get_column('formation_energy'))+0.6*(-(np.array(csv_dict.get_column('o_p_band_center')))+1.5/2*np.array(csv_dict.get_column('band_gap')))-2.6*np.array(csv_dict.get_column('pauling_diff'))\n",
    "# x=[\n",
    "#     np.array(csv_dict.get_column('formation_energy')),\n",
    "#     np.array(csv_dict.get_column('o_p_band_center'))-np.array(csv_dict.get_column('efermi')),\n",
    "#     np.array(csv_dict.get_column('band_gap')),\n",
    "#     np.array(csv_dict.get_column('pauling_diff'))\n",
    "#     ]\n",
    "y=np.array(csv_dict.get_column('ovac'))\n",
    "plt.xlabel('V$_O$ Formation Energy (eV)')\n",
    "plt.ylabel('Band Gap (eV)')\n",
    "# y= prediction - ( np.array(csv_dict.get_column('lb'))/2+np.array(csv_dict.get_column('ub'))/2 )\n",
    "\n",
    "z = np.polyfit(x, y, 1)\n",
    "p = np.poly1d(z)\n",
    "scat = plt.scatter(x, y)\n",
    "plt.plot([0, max(x)], [0, max(x)], \"--\", color='k')\n",
    "savefig('bg_vs_vo')\n",
    "print(scipy.stats.linregress(x, y))\n",
    "\n",
    "\n"
   ],
   "metadata": {
    "collapsed": false,
    "pycharm": {
     "name": "#%%\n",
     "is_executing": false
    }
   }
  },
  {
   "cell_type": "code",
   "execution_count": 30,
   "outputs": [],
   "source": [],
   "metadata": {
    "collapsed": false,
    "pycharm": {
     "name": "#%%\n",
     "is_executing": false
    }
   }
  },
  {
   "cell_type": "code",
   "execution_count": 30,
   "outputs": [],
   "source": [],
   "metadata": {
    "collapsed": false,
    "pycharm": {
     "name": "#%%\n",
     "is_executing": false
    }
   }
  },
  {
   "cell_type": "code",
   "execution_count": 30,
   "outputs": [],
   "source": [],
   "metadata": {
    "collapsed": false,
    "pycharm": {
     "name": "#%%\n",
     "is_executing": false
    }
   }
  },
  {
   "cell_type": "code",
   "execution_count": 30,
   "outputs": [],
   "source": [],
   "metadata": {
    "collapsed": false,
    "pycharm": {
     "name": "#%%\n",
     "is_executing": false
    }
   }
  },
  {
   "cell_type": "code",
   "execution_count": 30,
   "outputs": [],
   "source": [],
   "metadata": {
    "collapsed": false,
    "pycharm": {
     "name": "#%%\n",
     "is_executing": false
    }
   }
  },
  {
   "cell_type": "code",
   "execution_count": 30,
   "outputs": [],
   "source": [],
   "metadata": {
    "collapsed": false,
    "pycharm": {
     "name": "#%%\n",
     "is_executing": false
    }
   }
  },
  {
   "cell_type": "code",
   "execution_count": 30,
   "outputs": [],
   "source": [],
   "metadata": {
    "collapsed": false,
    "pycharm": {
     "name": "#%%\n",
     "is_executing": false
    }
   }
  },
  {
   "cell_type": "code",
   "execution_count": 30,
   "outputs": [],
   "source": [],
   "metadata": {
    "collapsed": false,
    "pycharm": {
     "name": "#%%\n",
     "is_executing": false
    }
   }
  },
  {
   "cell_type": "code",
   "execution_count": 30,
   "outputs": [],
   "source": [],
   "metadata": {
    "collapsed": false,
    "pycharm": {
     "name": "#%%\n",
     "is_executing": false
    }
   }
  },
  {
   "cell_type": "code",
   "execution_count": 30,
   "outputs": [],
   "source": [],
   "metadata": {
    "collapsed": false,
    "pycharm": {
     "name": "#%%\n",
     "is_executing": false
    }
   }
  },
  {
   "cell_type": "code",
   "execution_count": 30,
   "outputs": [],
   "source": [],
   "metadata": {
    "collapsed": false,
    "pycharm": {
     "name": "#%%\n",
     "is_executing": false
    }
   }
  },
  {
   "cell_type": "code",
   "execution_count": 30,
   "outputs": [],
   "source": [],
   "metadata": {
    "collapsed": false,
    "pycharm": {
     "name": "#%%\n",
     "is_executing": false
    }
   }
  },
  {
   "cell_type": "code",
   "execution_count": 30,
   "outputs": [],
   "source": [],
   "metadata": {
    "collapsed": false,
    "pycharm": {
     "name": "#%%\n",
     "is_executing": false
    }
   }
  },
  {
   "cell_type": "code",
   "execution_count": 30,
   "outputs": [],
   "source": [],
   "metadata": {
    "collapsed": false,
    "pycharm": {
     "name": "#%%\n",
     "is_executing": false
    }
   }
  },
  {
   "cell_type": "code",
   "execution_count": 30,
   "outputs": [],
   "source": [],
   "metadata": {
    "collapsed": false,
    "pycharm": {
     "name": "#%%\n",
     "is_executing": false
    }
   }
  },
  {
   "cell_type": "code",
   "execution_count": 30,
   "outputs": [],
   "source": [],
   "metadata": {
    "collapsed": false,
    "pycharm": {
     "name": "#%%\n",
     "is_executing": false
    }
   }
  },
  {
   "cell_type": "code",
   "execution_count": 30,
   "outputs": [],
   "source": [
    "\n"
   ],
   "metadata": {
    "collapsed": false,
    "pycharm": {
     "name": "#%%\n",
     "is_executing": false
    }
   }
  }
 ],
 "metadata": {
  "language_info": {
   "codemirror_mode": {
    "name": "ipython",
    "version": 2
   },
   "file_extension": ".py",
   "mimetype": "text/x-python",
   "name": "python",
   "nbconvert_exporter": "python",
   "pygments_lexer": "ipython2",
   "version": "2.7.6"
  },
  "kernelspec": {
   "name": "python3",
   "language": "python",
   "display_name": "Python 3"
  },
  "pycharm": {
   "stem_cell": {
    "cell_type": "raw",
    "source": [],
    "metadata": {
     "collapsed": false
    }
   }
  }
 },
 "nbformat": 4,
 "nbformat_minor": 0
}