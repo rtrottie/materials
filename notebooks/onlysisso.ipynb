{
 "cells": [
  {
   "cell_type": "code",
   "execution_count": 15,
   "metadata": {
    "collapsed": true,
    "pycharm": {
     "is_executing": false
    }
   },
   "outputs": [
    {
     "data": {
      "text/plain": "<Figure size 324x432 with 0 Axes>"
     },
     "metadata": {},
     "output_type": "execute_result",
     "execution_count": 15
    },
    {
     "data": {
      "text/plain": "<Figure size 324x432 with 0 Axes>"
     },
     "metadata": {},
     "output_type": "display_data"
    }
   ],
   "source": [
    "import matplotlib\n",
    "import matplotlib.pyplot as plt\n",
    "%matplotlib inline\n",
    "import csv\n",
    "import numpy as np\n",
    "\n",
    "figsize=(4.5,6)\n",
    "plt.figure(figsize=figsize)"
   ]
  },
  {
   "cell_type": "code",
   "execution_count": 16,
   "outputs": [],
   "source": [
    "with open('C:\\\\Users\\\\RyanTrottier\\\\PycharmProjects\\\\materials\\\\data\\\\all_data\\\\2019.01.19.withcharged.csv', 'r') as csvfile:\n",
    "    reader = csv.reader(csvfile, delimiter=',')\n",
    "    lines = list(reader)\n",
    "    \n",
    "# with open('C:\\\\Users\\\\theme\\\\Documents\\\\scrap\\\\train.dat', 'r') as csvfile:\n",
    "#     reader = csv.reader(csvfile, delimiter=',')\n",
    "#     lines = list(reader)\n",
    "\n",
    "# with open('C:\\\\Users\\\\RyanTrottier\\\\PycharmProjects\\\\materials\\\\sissoresults.csv', 'r') as csvfile:\n",
    "#     reader = csv.reader(csvfile, delimiter='\\t')\n",
    "#     sissolines = list(reader)\n",
    "\n",
    "with open(\n",
    "r'C:\\Users\\RyanTrottier\\PycharmProjects\\materials\\data\\sissoresults\\\\2020.04.20.withcharged.3d.csv', 'r') as csvfile:\n",
    "    reader = csv.reader(csvfile, delimiter='\\t')\n",
    "    sissolines = list(reader)\n",
    "\n",
    "\n",
    "def geti(header, lines=lines):\n",
    "    return(lines[0].index(header))\n",
    "ubi = geti('ub')\n",
    "lbi = geti('lb')\n",
    "\n",
    "def getcol(header, lines=lines):\n",
    "    i = geti(header, lines=lines)\n",
    "    try:\n",
    "        return [float(x[i]) for x in lines[1:]]\n",
    "    except:\n",
    "        return [x[i] for x in lines[1:]]\n",
    "\n",
    "def getavg(line):\n",
    "    return (float(line[lbi]) + float(line[ubi]))/2\n",
    "\n",
    "def getavgcol(lines=lines):\n",
    "    return [getavg(line) for line in lines[1:]]\n",
    "\n",
    "lowest_lines = []\n",
    "prev_material = ''\n",
    "best_line = lines[0]\n",
    "\n",
    "for line in lines[1:]:\n",
    "    material = line[0]\n",
    "    i = int(line[1])\n",
    "    if i >= 100 and i <= 200:\n",
    "        continue\n",
    "    elif material != prev_material:\n",
    "        lowest_lines.append(best_line)\n",
    "        best_line = line\n",
    "    elif getavg(line) < getavg(best_line):\n",
    "        best_line = line\n",
    "    prev_material = material\n",
    "# print('\\n'.join(lines[0]))\n",
    "# print(getcol('material'))\n",
    "\n",
    "bins = np.arange(0,5.1,0.25)\n"
   ],
   "metadata": {
    "collapsed": false,
    "pycharm": {
     "name": "#%%\n",
     "is_executing": false
    }
   }
  },
  {
   "cell_type": "code",
   "execution_count": 17,
   "outputs": [
    {
     "name": "stdout",
     "text": [
      "0.10465116279069768\n"
     ],
     "output_type": "stream"
    }
   ],
   "source": [
    "cutoff = 2.487\n",
    "definite = []\n",
    "unsure = []\n",
    "\n",
    "for line in lowest_lines[1:]:\n",
    "    avg = getavg(line)\n",
    "    ub = float(line[ubi])\n",
    "    lb = float(line[lbi])\n",
    "    if ub>cutoff and lb<cutoff:\n",
    "        unsure.append(avg)\n",
    "    else:\n",
    "        definite.append(avg)\n",
    "        \n",
    "\n",
    "bound_def = np.histogram(definite, bins=bins)[0]\n",
    "bound_uns = np.histogram(unsure, bins=bins)[0]\n",
    "\n",
    "print(len(unsure) / (len(unsure) + len(definite)))"
   ],
   "metadata": {
    "collapsed": false,
    "pycharm": {
     "name": "#%%\n",
     "is_executing": false
    }
   }
  },
  {
   "cell_type": "code",
   "execution_count": 18,
   "outputs": [
    {
     "name": "stdout",
     "text": [
      "Total Failure    : 0.0992\n",
      "Predicted Failure: 0.0893\n",
      "SISSO Failure    : 0.0794\n"
     ],
     "output_type": "stream"
    },
    {
     "data": {
      "text/plain": "<Figure size 324x432 with 1 Axes>",
      "image/png": "[encoded data removed]"
     },
     "metadata": {
      "needs_background": "light"
     },
     "output_type": "display_data"
    }
   ],
   "source": [
    "definite = []\n",
    "unsure = []\n",
    "wrong = []\n",
    "\n",
    "for line in sissolines[1:]:\n",
    "    ub = float(line[1])\n",
    "    lb = float(line[0])\n",
    "    y = float(line[2])\n",
    "    avg = (ub+lb)/2\n",
    "    if y>cutoff and lb>cutoff and ub>cutoff:\n",
    "        definite.append(y)\n",
    "    elif y<cutoff and lb<cutoff and ub<cutoff:\n",
    "        definite.append(y)\n",
    "    elif ub>cutoff and lb<cutoff:\n",
    "        unsure.append(avg)\n",
    "    else:\n",
    "        wrong.append(y)\n",
    "        \n",
    "plt.figure(figsize=figsize)\n",
    "plt.hist([definite, wrong, unsure], stacked=True, bins=bins, density=True, color=['green', 'red', 'blue'])\n",
    "# plt.plot([cutoff, cutoff], [0.7,0])\n",
    "sisso_def = np.histogram(definite, bins=bins)[0]\n",
    "sisso_uns = np.histogram(unsure, bins=bins)[0]\n",
    "sisso_wrng = np.histogram(wrong, bins=bins)[0]\n",
    "plt.legend(['Fast/Slow Cutoff', 'Correctly Identfied', 'Misidentified', 'Unsure'])\n",
    "plt.legend(['Correctly Identfied', 'Misidentified', 'Unsure'])\n",
    "plt.title('SISSO')\n",
    "plt.xlabel('Predicted Barrier (eV)')\n",
    "plt.ylabel('Frequency of Prediction')\n",
    "\n",
    "plt.savefig(\"C:\\\\Users\\\\RyanTrottier\\\\PycharmProjects\\\\materials\\\\figures\\\\model.{}.png\".format('sisso'))\n",
    "print('Total Failure    : {:6.4f}'.format((len(unsure)  +len(wrong)) / (len(unsure) + len(definite) + len(wrong))))\n",
    "print('Predicted Failure: {:6.4f}'.format((len(unsure)/2+len(wrong)) / (len(unsure) + len(definite) + len(wrong))))\n",
    "print('SISSO Failure    : {:6.4f}'.format((len(wrong)) / (len(unsure) + len(definite) + len(wrong))))\n",
    "# print('Success          : {:6.4f}'.format((len(definite) + len(wrong)) / (len(unsure) + len(definite) + len(wrong))))"
   ],
   "metadata": {
    "collapsed": false,
    "pycharm": {
     "name": "#%%\n",
     "is_executing": false
    }
   }
  },
  {
   "cell_type": "code",
   "execution_count": 19,
   "outputs": [
    {
     "name": "stdout",
     "text": [
      "1.1148148148148147\n"
     ],
     "output_type": "stream"
    },
    {
     "name": "stderr",
     "text": [
      "D:\\ProgramData\\Miniconda3\\envs\\default\\lib\\site-packages\\ipykernel_launcher.py:1: RuntimeWarning: invalid value encountered in true_divide\n",
      "  \"\"\"Entry point for launching an IPython kernel.\n",
      "D:\\ProgramData\\Miniconda3\\envs\\default\\lib\\site-packages\\ipykernel_launcher.py:4: RuntimeWarning: invalid value encountered in true_divide\n",
      "  after removing the cwd from sys.path.\n",
      "D:\\ProgramData\\Miniconda3\\envs\\default\\lib\\site-packages\\ipykernel_launcher.py:7: RuntimeWarning: invalid value encountered in true_divide\n",
      "  import sys\n"
     ],
     "output_type": "stream"
    }
   ],
   "source": [
    "accuracy = np.divide(bound_def, bound_uns + bound_def)\n",
    "accuracy = [1 if np.isnan(x) else x for x in accuracy]\n",
    "\n",
    "precision = np.divide(sisso_def, sisso_uns + sisso_def)\n",
    "precision = [1 if np.isnan(x) else x for x in precision]\n",
    "\n",
    "sisso_accuracy = np.divide(sisso_wrng, bound_def)\n",
    "sisso_accuracy = [1 if np.isnan(x) else x for x in sisso_accuracy]\n",
    "\n",
    "print(sum(np.multiply(sisso_accuracy, bound_uns))/sum(bound_uns))"
   ],
   "metadata": {
    "collapsed": false,
    "pycharm": {
     "name": "#%%\n",
     "is_executing": false
    }
   }
  },
  {
   "cell_type": "code",
   "execution_count": 20,
   "outputs": [],
   "source": [
    "data = lines[1:]\n",
    "data = [line[6:] for line in data]\n",
    "data = [[float(x) for x in line] for line in data]\n",
    "y = getavgcol()"
   ],
   "metadata": {
    "collapsed": false,
    "pycharm": {
     "name": "#%%\n",
     "is_executing": false
    }
   }
  },
  {
   "cell_type": "code",
   "execution_count": 20,
   "outputs": [],
   "source": [],
   "metadata": {
    "collapsed": false,
    "pycharm": {
     "name": "#%%\n",
     "is_executing": false
    }
   }
  }
 ],
 "metadata": {
  "kernelspec": {
   "display_name": "Python 3",
   "language": "python",
   "name": "python3"
  },
  "language_info": {
   "codemirror_mode": {
    "name": "ipython",
    "version": 2
   },
   "file_extension": ".py",
   "mimetype": "text/x-python",
   "name": "python",
   "nbconvert_exporter": "python",
   "pygments_lexer": "ipython2",
   "version": "2.7.6"
  },
  "pycharm": {
   "stem_cell": {
    "cell_type": "raw",
    "source": [],
    "metadata": {
     "collapsed": false
    }
   }
  }
 },
 "nbformat": 4,
 "nbformat_minor": 0
}